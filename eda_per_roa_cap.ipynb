{
 "cells": [
  {
   "cell_type": "code",
   "execution_count": 1,
   "id": "brief-briefs",
   "metadata": {},
   "outputs": [],
   "source": [
    "%config Completer.use_jedi = False\n",
    "import numpy as np\n",
    "import pandas as pd\n",
    "import seaborn as sns\n",
    "import matplotlib.pyplot as plt\n",
    "from matplotlib import rc\n",
    "rc('font', family='Arial Unicode MS')\n",
    "%matplotlib inline\n",
    "plt.rcParams['axes.unicode_minus'] = False\n",
    "import folium\n",
    "import json\n",
    "from glob import glob\n",
    "import missingno as msno"
   ]
  },
  {
   "cell_type": "code",
   "execution_count": 2,
   "id": "governing-breast",
   "metadata": {},
   "outputs": [],
   "source": [
    "# merge data 불러오기\n",
    "df = pd.read_csv('./datas/industry_merged.csv', encoding='utf-8')"
   ]
  },
  {
   "cell_type": "code",
   "execution_count": 3,
   "metadata": {},
   "outputs": [],
   "source": [
    "# Column 추가 : PER = 시총 / 당기순이익\n",
    "df['PER'] = df['시총'] / df['당기순이익 (백만원)']"
   ]
  },
  {
   "cell_type": "code",
   "execution_count": 4,
   "metadata": {},
   "outputs": [],
   "source": [
    "# Column명 변경 : 자기자본이익률 (%) -> ROE\n",
    "df.rename(columns = {'자기자본이익률 (%)' : 'ROE'}, inplace = True)"
   ]
  },
  {
   "cell_type": "code",
   "execution_count": 5,
   "id": "comparative-prairie",
   "metadata": {},
   "outputs": [
    {
     "output_type": "execute_result",
     "data": {
      "text/plain": [
       "  산업분류    년도   회사수 (개)  매출액 (백만원)  당기순이익 (백만원)  영업이익 (백만원)  경상이익 (백만원)  \\\n",
       "0  건설업  2005 -0.542403  -1.998367     0.868508    0.579365    0.852371   \n",
       "1  건설업  2006  0.881405  -1.610409     1.252618    0.972198    1.187412   \n",
       "\n",
       "   매출액증가율 (%)  매출액이익률 (%)  납입자본이익률 (%)  매출액경상이익률 (%)       ROE  총자본경상이익률 (%)  \\\n",
       "0   -0.170437    1.187554     0.851819      1.184977  1.299236      1.351396   \n",
       "1    0.927175    1.491725     1.209430      1.511661  1.501383      1.602943   \n",
       "\n",
       "       시장규모        시총       PER  \n",
       "0 -1.193173 -0.319363  0.252339  \n",
       "1 -1.121211  0.511515  0.232899  "
      ],
      "text/html": "<div>\n<style scoped>\n    .dataframe tbody tr th:only-of-type {\n        vertical-align: middle;\n    }\n\n    .dataframe tbody tr th {\n        vertical-align: top;\n    }\n\n    .dataframe thead th {\n        text-align: right;\n    }\n</style>\n<table border=\"1\" class=\"dataframe\">\n  <thead>\n    <tr style=\"text-align: right;\">\n      <th></th>\n      <th>산업분류</th>\n      <th>년도</th>\n      <th>회사수 (개)</th>\n      <th>매출액 (백만원)</th>\n      <th>당기순이익 (백만원)</th>\n      <th>영업이익 (백만원)</th>\n      <th>경상이익 (백만원)</th>\n      <th>매출액증가율 (%)</th>\n      <th>매출액이익률 (%)</th>\n      <th>납입자본이익률 (%)</th>\n      <th>매출액경상이익률 (%)</th>\n      <th>ROE</th>\n      <th>총자본경상이익률 (%)</th>\n      <th>시장규모</th>\n      <th>시총</th>\n      <th>PER</th>\n    </tr>\n  </thead>\n  <tbody>\n    <tr>\n      <th>0</th>\n      <td>건설업</td>\n      <td>2005</td>\n      <td>-0.542403</td>\n      <td>-1.998367</td>\n      <td>0.868508</td>\n      <td>0.579365</td>\n      <td>0.852371</td>\n      <td>-0.170437</td>\n      <td>1.187554</td>\n      <td>0.851819</td>\n      <td>1.184977</td>\n      <td>1.299236</td>\n      <td>1.351396</td>\n      <td>-1.193173</td>\n      <td>-0.319363</td>\n      <td>0.252339</td>\n    </tr>\n    <tr>\n      <th>1</th>\n      <td>건설업</td>\n      <td>2006</td>\n      <td>0.881405</td>\n      <td>-1.610409</td>\n      <td>1.252618</td>\n      <td>0.972198</td>\n      <td>1.187412</td>\n      <td>0.927175</td>\n      <td>1.491725</td>\n      <td>1.209430</td>\n      <td>1.511661</td>\n      <td>1.501383</td>\n      <td>1.602943</td>\n      <td>-1.121211</td>\n      <td>0.511515</td>\n      <td>0.232899</td>\n    </tr>\n  </tbody>\n</table>\n</div>"
     },
     "metadata": {},
     "execution_count": 5
    }
   ],
   "source": [
    "# 2. 전체 산업분류 정규화\n",
    "df_norm_std = pd.DataFrame()\n",
    "for i in range(len(df['산업분류'].unique())):\n",
    "    data = df[df['산업분류'] == df['산업분류'].unique()[i]][list(df.columns)[2:]]\n",
    "    data_norm = (data - data.mean()) / data.std()\n",
    "    df_norm_std_left = df[['산업분류', '년도']][df['산업분류']==df['산업분류'].unique()[i]]\n",
    "    df_norm_std_ind = pd.concat([df_norm_std_left, data_norm], axis=1)\n",
    "    df_norm_std = df_norm_std.append(df_norm_std_ind)\n",
    "df_norm_std.head(2)"
   ]
  },
  {
   "cell_type": "code",
   "execution_count": 6,
   "id": "artificial-deficit",
   "metadata": {},
   "outputs": [],
   "source": [
    "# 정규화 확인(산업/data column별 평균 = 0 확인)\n",
    "\n",
    "for i in range(len(df['산업분류'].unique())):\n",
    "    for j in range(2, len(list(df.columns))):\n",
    "        if int(df_norm_std[df['산업분류']==df['산업분류'].unique()[i]][list(df.columns)[j]].mean()) != 0:\n",
    "            print('error')"
   ]
  },
  {
   "cell_type": "code",
   "execution_count": 7,
   "id": "growing-liabilities",
   "metadata": {},
   "outputs": [],
   "source": [
    "df_norm_std.to_csv('./datas/norm_std.csv', index=False)"
   ]
  },
  {
   "cell_type": "code",
   "execution_count": 8,
   "metadata": {},
   "outputs": [
    {
     "output_type": "execute_result",
     "data": {
      "text/plain": [
       "  산업분류    년도   회사수 (개)  매출액 (백만원)  당기순이익 (백만원)  영업이익 (백만원)  경상이익 (백만원)  \\\n",
       "0  건설업  2005 -0.542403  -1.998367     0.868508    0.579365    0.852371   \n",
       "1  건설업  2006  0.881405  -1.610409     1.252618    0.972198    1.187412   \n",
       "\n",
       "   매출액증가율 (%)  매출액이익률 (%)  납입자본이익률 (%)  매출액경상이익률 (%)       ROE  총자본경상이익률 (%)  \\\n",
       "0   -0.170437    1.187554     0.851819      1.184977  1.299236      1.351396   \n",
       "1    0.927175    1.491725     1.209430      1.511661  1.501383      1.602943   \n",
       "\n",
       "       시장규모        시총       PER  \n",
       "0 -1.193173 -0.319363  0.252339  \n",
       "1 -1.121211  0.511515  0.232899  "
      ],
      "text/html": "<div>\n<style scoped>\n    .dataframe tbody tr th:only-of-type {\n        vertical-align: middle;\n    }\n\n    .dataframe tbody tr th {\n        vertical-align: top;\n    }\n\n    .dataframe thead th {\n        text-align: right;\n    }\n</style>\n<table border=\"1\" class=\"dataframe\">\n  <thead>\n    <tr style=\"text-align: right;\">\n      <th></th>\n      <th>산업분류</th>\n      <th>년도</th>\n      <th>회사수 (개)</th>\n      <th>매출액 (백만원)</th>\n      <th>당기순이익 (백만원)</th>\n      <th>영업이익 (백만원)</th>\n      <th>경상이익 (백만원)</th>\n      <th>매출액증가율 (%)</th>\n      <th>매출액이익률 (%)</th>\n      <th>납입자본이익률 (%)</th>\n      <th>매출액경상이익률 (%)</th>\n      <th>ROE</th>\n      <th>총자본경상이익률 (%)</th>\n      <th>시장규모</th>\n      <th>시총</th>\n      <th>PER</th>\n    </tr>\n  </thead>\n  <tbody>\n    <tr>\n      <th>0</th>\n      <td>건설업</td>\n      <td>2005</td>\n      <td>-0.542403</td>\n      <td>-1.998367</td>\n      <td>0.868508</td>\n      <td>0.579365</td>\n      <td>0.852371</td>\n      <td>-0.170437</td>\n      <td>1.187554</td>\n      <td>0.851819</td>\n      <td>1.184977</td>\n      <td>1.299236</td>\n      <td>1.351396</td>\n      <td>-1.193173</td>\n      <td>-0.319363</td>\n      <td>0.252339</td>\n    </tr>\n    <tr>\n      <th>1</th>\n      <td>건설업</td>\n      <td>2006</td>\n      <td>0.881405</td>\n      <td>-1.610409</td>\n      <td>1.252618</td>\n      <td>0.972198</td>\n      <td>1.187412</td>\n      <td>0.927175</td>\n      <td>1.491725</td>\n      <td>1.209430</td>\n      <td>1.511661</td>\n      <td>1.501383</td>\n      <td>1.602943</td>\n      <td>-1.121211</td>\n      <td>0.511515</td>\n      <td>0.232899</td>\n    </tr>\n  </tbody>\n</table>\n</div>"
     },
     "metadata": {},
     "execution_count": 8
    }
   ],
   "source": [
    "df_norm_std.head(2)"
   ]
  },
  {
   "cell_type": "code",
   "execution_count": 9,
   "metadata": {},
   "outputs": [
    {
     "output_type": "execute_result",
     "data": {
      "text/plain": [
       "   산업분류    년도       PER       ROE        시총\n",
       "0   건설업  2005  0.252339  1.299236 -0.319363\n",
       "1   건설업  2006  0.232899  1.501383  0.511515\n",
       "2   건설업  2007  0.372727  1.041482  3.089481\n",
       "3   건설업  2008  0.137126  0.834101 -0.789891\n",
       "4   건설업  2009  0.340279  0.320557  0.348886\n",
       "5   건설업  2010 -0.965475 -0.298968  0.704350\n",
       "6   건설업  2011 -1.345803 -0.837372 -0.114567\n",
       "7   건설업  2012 -0.694721 -1.779416 -0.275034\n",
       "8   건설업  2013 -0.271269 -1.387552 -0.370730\n",
       "9   건설업  2014 -0.164026 -0.885783 -0.684953\n",
       "10  건설업  2015 -0.366234 -0.491956 -0.594463\n",
       "11  건설업  2016 -0.877816  0.001963 -0.515004\n",
       "12  건설업  2017  2.851051  0.212614 -0.645859\n",
       "13  건설업  2018  0.498924  0.469714 -0.344368"
      ],
      "text/html": "<div>\n<style scoped>\n    .dataframe tbody tr th:only-of-type {\n        vertical-align: middle;\n    }\n\n    .dataframe tbody tr th {\n        vertical-align: top;\n    }\n\n    .dataframe thead th {\n        text-align: right;\n    }\n</style>\n<table border=\"1\" class=\"dataframe\">\n  <thead>\n    <tr style=\"text-align: right;\">\n      <th></th>\n      <th>산업분류</th>\n      <th>년도</th>\n      <th>PER</th>\n      <th>ROE</th>\n      <th>시총</th>\n    </tr>\n  </thead>\n  <tbody>\n    <tr>\n      <th>0</th>\n      <td>건설업</td>\n      <td>2005</td>\n      <td>0.252339</td>\n      <td>1.299236</td>\n      <td>-0.319363</td>\n    </tr>\n    <tr>\n      <th>1</th>\n      <td>건설업</td>\n      <td>2006</td>\n      <td>0.232899</td>\n      <td>1.501383</td>\n      <td>0.511515</td>\n    </tr>\n    <tr>\n      <th>2</th>\n      <td>건설업</td>\n      <td>2007</td>\n      <td>0.372727</td>\n      <td>1.041482</td>\n      <td>3.089481</td>\n    </tr>\n    <tr>\n      <th>3</th>\n      <td>건설업</td>\n      <td>2008</td>\n      <td>0.137126</td>\n      <td>0.834101</td>\n      <td>-0.789891</td>\n    </tr>\n    <tr>\n      <th>4</th>\n      <td>건설업</td>\n      <td>2009</td>\n      <td>0.340279</td>\n      <td>0.320557</td>\n      <td>0.348886</td>\n    </tr>\n    <tr>\n      <th>5</th>\n      <td>건설업</td>\n      <td>2010</td>\n      <td>-0.965475</td>\n      <td>-0.298968</td>\n      <td>0.704350</td>\n    </tr>\n    <tr>\n      <th>6</th>\n      <td>건설업</td>\n      <td>2011</td>\n      <td>-1.345803</td>\n      <td>-0.837372</td>\n      <td>-0.114567</td>\n    </tr>\n    <tr>\n      <th>7</th>\n      <td>건설업</td>\n      <td>2012</td>\n      <td>-0.694721</td>\n      <td>-1.779416</td>\n      <td>-0.275034</td>\n    </tr>\n    <tr>\n      <th>8</th>\n      <td>건설업</td>\n      <td>2013</td>\n      <td>-0.271269</td>\n      <td>-1.387552</td>\n      <td>-0.370730</td>\n    </tr>\n    <tr>\n      <th>9</th>\n      <td>건설업</td>\n      <td>2014</td>\n      <td>-0.164026</td>\n      <td>-0.885783</td>\n      <td>-0.684953</td>\n    </tr>\n    <tr>\n      <th>10</th>\n      <td>건설업</td>\n      <td>2015</td>\n      <td>-0.366234</td>\n      <td>-0.491956</td>\n      <td>-0.594463</td>\n    </tr>\n    <tr>\n      <th>11</th>\n      <td>건설업</td>\n      <td>2016</td>\n      <td>-0.877816</td>\n      <td>0.001963</td>\n      <td>-0.515004</td>\n    </tr>\n    <tr>\n      <th>12</th>\n      <td>건설업</td>\n      <td>2017</td>\n      <td>2.851051</td>\n      <td>0.212614</td>\n      <td>-0.645859</td>\n    </tr>\n    <tr>\n      <th>13</th>\n      <td>건설업</td>\n      <td>2018</td>\n      <td>0.498924</td>\n      <td>0.469714</td>\n      <td>-0.344368</td>\n    </tr>\n  </tbody>\n</table>\n</div>"
     },
     "metadata": {},
     "execution_count": 9
    }
   ],
   "source": [
    "df_q1 = df_norm_std[['산업분류', '년도', 'PER', 'ROE', '시총']][df['산업분류']==df['산업분류'].unique()[0]]\n",
    "df_q1"
   ]
  },
  {
   "cell_type": "code",
   "execution_count": 10,
   "metadata": {},
   "outputs": [
    {
     "output_type": "display_data",
     "data": {
      "text/plain": "<Figure size 432x288 with 1 Axes>",
      "image/svg+xml": "<?xml version=\"1.0\" encoding=\"utf-8\" standalone=\"no\"?>\n<!DOCTYPE svg PUBLIC \"-//W3C//DTD SVG 1.1//EN\"\n  \"http://www.w3.org/Graphics/SVG/1.1/DTD/svg11.dtd\">\n<!-- Created with matplotlib (https://matplotlib.org/) -->\n<svg height=\"265.994375pt\" version=\"1.1\" viewBox=\"0 0 368.479688 265.994375\" width=\"368.479688pt\" xmlns=\"http://www.w3.org/2000/svg\" xmlns:xlink=\"http://www.w3.org/1999/xlink\">\n <metadata>\n  <rdf:RDF xmlns:cc=\"http://creativecommons.org/ns#\" xmlns:dc=\"http://purl.org/dc/elements/1.1/\" xmlns:rdf=\"http://www.w3.org/1999/02/22-rdf-syntax-ns#\">\n   <cc:Work>\n    <dc:type rdf:resource=\"http://purl.org/dc/dcmitype/StillImage\"/>\n    <dc:date>2021-02-17T17:40:58.362693</dc:date>\n    <dc:format>image/svg+xml</dc:format>\n    <dc:creator>\n     <cc:Agent>\n      <dc:title>Matplotlib v3.3.2, https://matplotlib.org/</dc:title>\n     </cc:Agent>\n    </dc:creator>\n   </cc:Work>\n  </rdf:RDF>\n </metadata>\n <defs>\n  <style type=\"text/css\">*{stroke-linecap:butt;stroke-linejoin:round;}</style>\n </defs>\n <g id=\"figure_1\">\n  <g id=\"patch_1\">\n   <path d=\"M 0 265.994375 \nL 368.479688 265.994375 \nL 368.479688 0 \nL 0 0 \nz\n\" style=\"fill:none;\"/>\n  </g>\n  <g id=\"axes_1\">\n   <g id=\"patch_2\">\n    <path d=\"M 26.479688 239.229375 \nL 361.279688 239.229375 \nL 361.279688 21.789375 \nL 26.479688 21.789375 \nz\n\" style=\"fill:#eaeaf2;\"/>\n   </g>\n   <g id=\"matplotlib.axis_1\">\n    <g id=\"xtick_1\">\n     <g id=\"line2d_1\">\n      <path clip-path=\"url(#pb942d3b4ad)\" d=\"M 65.110457 239.229375 \nL 65.110457 21.789375 \n\" style=\"fill:none;stroke:#ffffff;stroke-linecap:round;\"/>\n     </g>\n     <g id=\"text_1\">\n      <!-- 2006 -->\n      <g style=\"fill:#262626;\" transform=\"translate(52.876394 256.602969)scale(0.11 -0.11)\">\n       <defs>\n        <path d=\"M 50.484375 0 \nL 3.078125 0 \nQ 3.078125 6.0625 7.296875 12.25 \nQ 11.53125 18.453125 23.09375 27.78125 \nQ 30.171875 33.453125 35.734375 39.671875 \nQ 41.3125 45.90625 41.3125 52.203125 \nQ 41.3125 57.625 37.46875 61.15625 \nQ 33.640625 64.703125 27.78125 64.703125 \nQ 21.875 64.703125 17.875 61.0625 \nQ 13.875 57.421875 13.8125 50.203125 \nL 4.78125 51.21875 \nQ 5.609375 61.28125 11.9375 66.59375 \nQ 18.265625 71.921875 27.984375 71.921875 \nQ 38.53125 71.921875 44.40625 66.078125 \nQ 50.296875 60.25 50.296875 52 \nQ 50.296875 45.125 45.328125 38.0625 \nQ 40.375 31 25.59375 19.1875 \nQ 17.828125 12.984375 15.28125 8.5 \nL 50.484375 8.5 \nz\n\" id=\"ArialUnicodeMS-50\"/>\n        <path d=\"M 27.78125 71.921875 \nQ 51.125 71.921875 51.125 35.296875 \nQ 51.125 16.796875 45.09375 7.78125 \nQ 39.0625 -1.21875 27.78125 -1.21875 \nQ 4.5 -1.21875 4.5 35.296875 \nQ 4.5 53.8125 10.515625 62.859375 \nQ 16.546875 71.921875 27.78125 71.921875 \nz\nM 27.78125 6 \nQ 34.859375 6 38.46875 12.859375 \nQ 42.09375 19.734375 42.09375 35.296875 \nQ 42.09375 46.140625 40.5 52.359375 \nQ 38.921875 58.59375 35.71875 61.640625 \nQ 32.515625 64.703125 27.6875 64.703125 \nQ 20.609375 64.703125 17.046875 57.71875 \nQ 13.484375 50.734375 13.484375 35.296875 \nQ 13.484375 24.609375 15.09375 18.359375 \nQ 16.703125 12.109375 19.875 9.046875 \nQ 23.046875 6 27.78125 6 \nz\n\" id=\"ArialUnicodeMS-48\"/>\n        <path d=\"M 13.09375 36.921875 \nQ 19.140625 46.390625 30.328125 46.390625 \nQ 39.109375 46.390625 45.265625 39.890625 \nQ 51.421875 33.40625 51.421875 23.296875 \nQ 51.421875 13.09375 45.28125 5.9375 \nQ 39.15625 -1.21875 29 -1.21875 \nQ 18.703125 -1.21875 11.453125 6.390625 \nQ 4.203125 14.015625 4.203125 33.5 \nQ 4.203125 52.640625 10.765625 62.28125 \nQ 17.328125 71.921875 29.78125 71.921875 \nQ 37.84375 71.921875 43.40625 67.421875 \nQ 48.96875 62.9375 50.203125 54.109375 \nL 41.40625 53.328125 \nQ 39.015625 64.703125 29.296875 64.703125 \nQ 22.5625 64.703125 17.71875 58 \nQ 12.890625 51.3125 12.890625 36.921875 \nz\nM 28.8125 6 \nQ 34.859375 6 38.625 10.875 \nQ 42.390625 15.765625 42.390625 22.703125 \nQ 42.390625 29.640625 38.625 34.171875 \nQ 34.859375 38.71875 28.515625 38.71875 \nQ 22.703125 38.71875 18.5 34.4375 \nQ 14.3125 30.171875 14.3125 23.1875 \nQ 14.3125 16.0625 18.4375 11.03125 \nQ 22.5625 6 28.8125 6 \nz\n\" id=\"ArialUnicodeMS-54\"/>\n       </defs>\n       <use xlink:href=\"#ArialUnicodeMS-50\"/>\n       <use x=\"55.615234\" xlink:href=\"#ArialUnicodeMS-48\"/>\n       <use x=\"111.230469\" xlink:href=\"#ArialUnicodeMS-48\"/>\n       <use x=\"166.845703\" xlink:href=\"#ArialUnicodeMS-54\"/>\n      </g>\n     </g>\n    </g>\n    <g id=\"xtick_2\">\n     <g id=\"line2d_2\">\n      <path clip-path=\"url(#pb942d3b4ad)\" d=\"M 111.935632 239.229375 \nL 111.935632 21.789375 \n\" style=\"fill:none;stroke:#ffffff;stroke-linecap:round;\"/>\n     </g>\n     <g id=\"text_2\">\n      <!-- 2008 -->\n      <g style=\"fill:#262626;\" transform=\"translate(99.701569 256.602969)scale(0.11 -0.11)\">\n       <defs>\n        <path d=\"M 37.890625 38.71875 \nQ 51.3125 34.421875 51.3125 20.40625 \nQ 51.3125 11.1875 44.71875 4.984375 \nQ 38.140625 -1.21875 27.78125 -1.21875 \nQ 17.328125 -1.21875 10.765625 5.03125 \nQ 4.203125 11.28125 4.203125 20.703125 \nQ 4.203125 27.484375 7.890625 32.5625 \nQ 11.578125 37.640625 17.828125 38.71875 \nL 17.828125 38.921875 \nQ 7.078125 42.234375 7.078125 53.421875 \nQ 7.078125 61.328125 12.734375 66.625 \nQ 18.40625 71.921875 27.59375 71.921875 \nQ 36.921875 71.921875 42.65625 66.453125 \nQ 48.390625 60.984375 48.390625 53.21875 \nQ 48.390625 42.671875 37.890625 38.921875 \nz\nM 27.78125 42.1875 \nQ 32.71875 42.1875 36.0625 45.328125 \nQ 39.40625 48.484375 39.40625 53.21875 \nQ 39.40625 58.0625 36.015625 61.375 \nQ 32.625 64.703125 27.6875 64.703125 \nQ 22.65625 64.703125 19.375 61.421875 \nQ 16.109375 58.15625 16.109375 53.71875 \nQ 16.109375 48.390625 19.484375 45.28125 \nQ 22.859375 42.1875 27.78125 42.1875 \nz\nM 27.78125 6 \nQ 33.984375 6 38.125 10 \nQ 42.28125 14.015625 42.28125 20.40625 \nQ 42.28125 26.8125 38 30.90625 \nQ 33.734375 35.015625 27.59375 35.015625 \nQ 21.1875 35.015625 17.1875 30.78125 \nQ 13.1875 26.5625 13.1875 20.609375 \nQ 13.1875 14.40625 17.3125 10.203125 \nQ 21.4375 6 27.78125 6 \nz\n\" id=\"ArialUnicodeMS-56\"/>\n       </defs>\n       <use xlink:href=\"#ArialUnicodeMS-50\"/>\n       <use x=\"55.615234\" xlink:href=\"#ArialUnicodeMS-48\"/>\n       <use x=\"111.230469\" xlink:href=\"#ArialUnicodeMS-48\"/>\n       <use x=\"166.845703\" xlink:href=\"#ArialUnicodeMS-56\"/>\n      </g>\n     </g>\n    </g>\n    <g id=\"xtick_3\">\n     <g id=\"line2d_3\">\n      <path clip-path=\"url(#pb942d3b4ad)\" d=\"M 158.760806 239.229375 \nL 158.760806 21.789375 \n\" style=\"fill:none;stroke:#ffffff;stroke-linecap:round;\"/>\n     </g>\n     <g id=\"text_3\">\n      <!-- 2010 -->\n      <g style=\"fill:#262626;\" transform=\"translate(146.526744 256.602969)scale(0.11 -0.11)\">\n       <defs>\n        <path d=\"M 37.5 0 \nL 28.71875 0 \nL 28.71875 56 \nQ 22.125 49.75 11.078125 45.40625 \nL 11.078125 53.90625 \nQ 26.265625 61.1875 31.78125 71.921875 \nL 37.5 71.921875 \nz\n\" id=\"ArialUnicodeMS-49\"/>\n       </defs>\n       <use xlink:href=\"#ArialUnicodeMS-50\"/>\n       <use x=\"55.615234\" xlink:href=\"#ArialUnicodeMS-48\"/>\n       <use x=\"111.230469\" xlink:href=\"#ArialUnicodeMS-49\"/>\n       <use x=\"166.845703\" xlink:href=\"#ArialUnicodeMS-48\"/>\n      </g>\n     </g>\n    </g>\n    <g id=\"xtick_4\">\n     <g id=\"line2d_4\">\n      <path clip-path=\"url(#pb942d3b4ad)\" d=\"M 205.585981 239.229375 \nL 205.585981 21.789375 \n\" style=\"fill:none;stroke:#ffffff;stroke-linecap:round;\"/>\n     </g>\n     <g id=\"text_4\">\n      <!-- 2012 -->\n      <g style=\"fill:#262626;\" transform=\"translate(193.351919 256.602969)scale(0.11 -0.11)\">\n       <use xlink:href=\"#ArialUnicodeMS-50\"/>\n       <use x=\"55.615234\" xlink:href=\"#ArialUnicodeMS-48\"/>\n       <use x=\"111.230469\" xlink:href=\"#ArialUnicodeMS-49\"/>\n       <use x=\"166.845703\" xlink:href=\"#ArialUnicodeMS-50\"/>\n      </g>\n     </g>\n    </g>\n    <g id=\"xtick_5\">\n     <g id=\"line2d_5\">\n      <path clip-path=\"url(#pb942d3b4ad)\" d=\"M 252.411156 239.229375 \nL 252.411156 21.789375 \n\" style=\"fill:none;stroke:#ffffff;stroke-linecap:round;\"/>\n     </g>\n     <g id=\"text_5\">\n      <!-- 2014 -->\n      <g style=\"fill:#262626;\" transform=\"translate(240.177094 256.602969)scale(0.11 -0.11)\">\n       <defs>\n        <path d=\"M 50.984375 17.09375 \nL 41.3125 17.09375 \nL 41.3125 0 \nL 32.515625 0 \nL 32.515625 17.09375 \nL 1.515625 17.09375 \nL 1.515625 25.203125 \nL 34.078125 71.578125 \nL 41.3125 71.578125 \nL 41.3125 25.203125 \nL 50.984375 25.203125 \nz\nM 32.515625 25.203125 \nL 32.515625 57.515625 \nL 32.328125 57.515625 \nL 10.109375 25.203125 \nz\n\" id=\"ArialUnicodeMS-52\"/>\n       </defs>\n       <use xlink:href=\"#ArialUnicodeMS-50\"/>\n       <use x=\"55.615234\" xlink:href=\"#ArialUnicodeMS-48\"/>\n       <use x=\"111.230469\" xlink:href=\"#ArialUnicodeMS-49\"/>\n       <use x=\"166.845703\" xlink:href=\"#ArialUnicodeMS-52\"/>\n      </g>\n     </g>\n    </g>\n    <g id=\"xtick_6\">\n     <g id=\"line2d_6\">\n      <path clip-path=\"url(#pb942d3b4ad)\" d=\"M 299.236331 239.229375 \nL 299.236331 21.789375 \n\" style=\"fill:none;stroke:#ffffff;stroke-linecap:round;\"/>\n     </g>\n     <g id=\"text_6\">\n      <!-- 2016 -->\n      <g style=\"fill:#262626;\" transform=\"translate(287.002268 256.602969)scale(0.11 -0.11)\">\n       <use xlink:href=\"#ArialUnicodeMS-50\"/>\n       <use x=\"55.615234\" xlink:href=\"#ArialUnicodeMS-48\"/>\n       <use x=\"111.230469\" xlink:href=\"#ArialUnicodeMS-49\"/>\n       <use x=\"166.845703\" xlink:href=\"#ArialUnicodeMS-54\"/>\n      </g>\n     </g>\n    </g>\n    <g id=\"xtick_7\">\n     <g id=\"line2d_7\">\n      <path clip-path=\"url(#pb942d3b4ad)\" d=\"M 346.061506 239.229375 \nL 346.061506 21.789375 \n\" style=\"fill:none;stroke:#ffffff;stroke-linecap:round;\"/>\n     </g>\n     <g id=\"text_7\">\n      <!-- 2018 -->\n      <g style=\"fill:#262626;\" transform=\"translate(333.827443 256.602969)scale(0.11 -0.11)\">\n       <use xlink:href=\"#ArialUnicodeMS-50\"/>\n       <use x=\"55.615234\" xlink:href=\"#ArialUnicodeMS-48\"/>\n       <use x=\"111.230469\" xlink:href=\"#ArialUnicodeMS-49\"/>\n       <use x=\"166.845703\" xlink:href=\"#ArialUnicodeMS-56\"/>\n      </g>\n     </g>\n    </g>\n   </g>\n   <g id=\"matplotlib.axis_2\">\n    <g id=\"ytick_1\">\n     <g id=\"line2d_8\">\n      <path clip-path=\"url(#pb942d3b4ad)\" d=\"M 26.479688 238.301228 \nL 361.279688 238.301228 \n\" style=\"fill:none;stroke:#ffffff;stroke-linecap:round;\"/>\n     </g>\n     <g id=\"text_8\">\n      <!-- -2 -->\n      <g style=\"fill:#262626;\" transform=\"translate(7.2 242.238025)scale(0.11 -0.11)\">\n       <defs>\n        <path d=\"M 30.078125 21.484375 \nL 3.21875 21.484375 \nL 3.21875 30.328125 \nL 30.078125 30.328125 \nz\n\" id=\"ArialUnicodeMS-45\"/>\n       </defs>\n       <use xlink:href=\"#ArialUnicodeMS-45\"/>\n       <use x=\"33.300781\" xlink:href=\"#ArialUnicodeMS-50\"/>\n      </g>\n     </g>\n    </g>\n    <g id=\"ytick_2\">\n     <g id=\"line2d_9\">\n      <path clip-path=\"url(#pb942d3b4ad)\" d=\"M 26.479688 197.702155 \nL 361.279688 197.702155 \n\" style=\"fill:none;stroke:#ffffff;stroke-linecap:round;\"/>\n     </g>\n     <g id=\"text_9\">\n      <!-- -1 -->\n      <g style=\"fill:#262626;\" transform=\"translate(7.2 201.638952)scale(0.11 -0.11)\">\n       <use xlink:href=\"#ArialUnicodeMS-45\"/>\n       <use x=\"33.300781\" xlink:href=\"#ArialUnicodeMS-49\"/>\n      </g>\n     </g>\n    </g>\n    <g id=\"ytick_3\">\n     <g id=\"line2d_10\">\n      <path clip-path=\"url(#pb942d3b4ad)\" d=\"M 26.479688 157.103081 \nL 361.279688 157.103081 \n\" style=\"fill:none;stroke:#ffffff;stroke-linecap:round;\"/>\n     </g>\n     <g id=\"text_10\">\n      <!-- 0 -->\n      <g style=\"fill:#262626;\" transform=\"translate(10.862656 161.039878)scale(0.11 -0.11)\">\n       <use xlink:href=\"#ArialUnicodeMS-48\"/>\n      </g>\n     </g>\n    </g>\n    <g id=\"ytick_4\">\n     <g id=\"line2d_11\">\n      <path clip-path=\"url(#pb942d3b4ad)\" d=\"M 26.479688 116.504008 \nL 361.279688 116.504008 \n\" style=\"fill:none;stroke:#ffffff;stroke-linecap:round;\"/>\n     </g>\n     <g id=\"text_11\">\n      <!-- 1 -->\n      <g style=\"fill:#262626;\" transform=\"translate(10.862656 120.440805)scale(0.11 -0.11)\">\n       <use xlink:href=\"#ArialUnicodeMS-49\"/>\n      </g>\n     </g>\n    </g>\n    <g id=\"ytick_5\">\n     <g id=\"line2d_12\">\n      <path clip-path=\"url(#pb942d3b4ad)\" d=\"M 26.479688 75.904934 \nL 361.279688 75.904934 \n\" style=\"fill:none;stroke:#ffffff;stroke-linecap:round;\"/>\n     </g>\n     <g id=\"text_12\">\n      <!-- 2 -->\n      <g style=\"fill:#262626;\" transform=\"translate(10.862656 79.841731)scale(0.11 -0.11)\">\n       <use xlink:href=\"#ArialUnicodeMS-50\"/>\n      </g>\n     </g>\n    </g>\n    <g id=\"ytick_6\">\n     <g id=\"line2d_13\">\n      <path clip-path=\"url(#pb942d3b4ad)\" d=\"M 26.479688 35.305861 \nL 361.279688 35.305861 \n\" style=\"fill:none;stroke:#ffffff;stroke-linecap:round;\"/>\n     </g>\n     <g id=\"text_13\">\n      <!-- 3 -->\n      <g style=\"fill:#262626;\" transform=\"translate(10.862656 39.242658)scale(0.11 -0.11)\">\n       <defs>\n        <path d=\"M 37.890625 38.71875 \nQ 44.53125 37.453125 47.921875 32.296875 \nQ 51.3125 27.15625 51.3125 21.09375 \nQ 51.3125 11.328125 44.203125 5.046875 \nQ 37.109375 -1.21875 27.203125 -1.21875 \nQ 17.71875 -1.21875 11.5625 4.296875 \nQ 5.421875 9.8125 4.390625 18.890625 \nL 13.1875 20.125 \nQ 14.5 13.03125 17.984375 9.515625 \nQ 21.484375 6 27.203125 6 \nQ 33.34375 6 37.609375 10.328125 \nQ 41.890625 14.65625 41.890625 20.90625 \nQ 41.890625 26.90625 38 30.859375 \nQ 34.125 34.8125 27.875 34.8125 \nQ 25.34375 34.8125 21.6875 33.890625 \nL 22.703125 41.609375 \nQ 26.21875 41.609375 28.265625 41.9375 \nQ 30.328125 42.28125 32.859375 43.59375 \nQ 35.40625 44.921875 37.0625 47.390625 \nQ 38.71875 49.859375 38.71875 53.515625 \nQ 38.71875 58.84375 35.171875 61.765625 \nQ 31.640625 64.703125 27 64.703125 \nQ 21.6875 64.703125 18.328125 61.328125 \nQ 14.984375 57.953125 14.109375 51.703125 \nL 5.328125 53.328125 \nQ 7.03125 62.640625 12.859375 67.28125 \nQ 18.703125 71.921875 26.8125 71.921875 \nQ 35.75 71.921875 41.71875 66.53125 \nQ 47.703125 61.140625 47.703125 53.328125 \nQ 47.703125 43.3125 37.890625 38.921875 \nz\n\" id=\"ArialUnicodeMS-51\"/>\n       </defs>\n       <use xlink:href=\"#ArialUnicodeMS-51\"/>\n      </g>\n     </g>\n    </g>\n   </g>\n   <g id=\"line2d_14\">\n    <path clip-path=\"url(#pb942d3b4ad)\" d=\"M 41.697869 146.858365 \nL 65.110457 147.647608 \nL 88.523044 141.970713 \nL 111.935632 151.535874 \nL 135.348219 143.288068 \nL 158.760806 196.300465 \nL 182.173394 211.741447 \nL 205.585981 185.308117 \nL 228.998569 168.116365 \nL 252.411156 163.762402 \nL 275.823743 171.97186 \nL 299.236331 192.741591 \nL 322.648918 41.35304 \nL 346.061506 136.847222 \n\" style=\"fill:none;stroke:#c44e52;stroke-dasharray:5.55,2.4;stroke-dashoffset:0;stroke-width:1.5;\"/>\n   </g>\n   <g id=\"line2d_15\">\n    <path clip-path=\"url(#pb942d3b4ad)\" d=\"M 41.697869 104.355317 \nL 65.110457 96.148339 \nL 88.523044 114.819879 \nL 111.935632 123.239336 \nL 135.348219 144.088779 \nL 158.760806 169.24091 \nL 182.173394 191.099626 \nL 205.585981 229.345739 \nL 228.998569 213.436418 \nL 252.411156 193.065051 \nL 275.823743 177.076051 \nL 299.236331 157.023402 \nL 322.648918 148.471146 \nL 346.061506 138.033144 \n\" style=\"fill:none;stroke:#4c72b0;stroke-linecap:round;stroke-width:1.5;\"/>\n    <defs>\n     <path d=\"M -3 3 \nL 3 3 \nL 3 -3 \nL -3 -3 \nz\n\" id=\"mc82907ef0c\" style=\"stroke:#4c72b0;stroke-linejoin:miter;\"/>\n    </defs>\n    <g clip-path=\"url(#pb942d3b4ad)\">\n     <use style=\"fill:#4c72b0;stroke:#4c72b0;stroke-linejoin:miter;\" x=\"41.697869\" xlink:href=\"#mc82907ef0c\" y=\"104.355317\"/>\n     <use style=\"fill:#4c72b0;stroke:#4c72b0;stroke-linejoin:miter;\" x=\"65.110457\" xlink:href=\"#mc82907ef0c\" y=\"96.148339\"/>\n     <use style=\"fill:#4c72b0;stroke:#4c72b0;stroke-linejoin:miter;\" x=\"88.523044\" xlink:href=\"#mc82907ef0c\" y=\"114.819879\"/>\n     <use style=\"fill:#4c72b0;stroke:#4c72b0;stroke-linejoin:miter;\" x=\"111.935632\" xlink:href=\"#mc82907ef0c\" y=\"123.239336\"/>\n     <use style=\"fill:#4c72b0;stroke:#4c72b0;stroke-linejoin:miter;\" x=\"135.348219\" xlink:href=\"#mc82907ef0c\" y=\"144.088779\"/>\n     <use style=\"fill:#4c72b0;stroke:#4c72b0;stroke-linejoin:miter;\" x=\"158.760806\" xlink:href=\"#mc82907ef0c\" y=\"169.24091\"/>\n     <use style=\"fill:#4c72b0;stroke:#4c72b0;stroke-linejoin:miter;\" x=\"182.173394\" xlink:href=\"#mc82907ef0c\" y=\"191.099626\"/>\n     <use style=\"fill:#4c72b0;stroke:#4c72b0;stroke-linejoin:miter;\" x=\"205.585981\" xlink:href=\"#mc82907ef0c\" y=\"229.345739\"/>\n     <use style=\"fill:#4c72b0;stroke:#4c72b0;stroke-linejoin:miter;\" x=\"228.998569\" xlink:href=\"#mc82907ef0c\" y=\"213.436418\"/>\n     <use style=\"fill:#4c72b0;stroke:#4c72b0;stroke-linejoin:miter;\" x=\"252.411156\" xlink:href=\"#mc82907ef0c\" y=\"193.065051\"/>\n     <use style=\"fill:#4c72b0;stroke:#4c72b0;stroke-linejoin:miter;\" x=\"275.823743\" xlink:href=\"#mc82907ef0c\" y=\"177.076051\"/>\n     <use style=\"fill:#4c72b0;stroke:#4c72b0;stroke-linejoin:miter;\" x=\"299.236331\" xlink:href=\"#mc82907ef0c\" y=\"157.023402\"/>\n     <use style=\"fill:#4c72b0;stroke:#4c72b0;stroke-linejoin:miter;\" x=\"322.648918\" xlink:href=\"#mc82907ef0c\" y=\"148.471146\"/>\n     <use style=\"fill:#4c72b0;stroke:#4c72b0;stroke-linejoin:miter;\" x=\"346.061506\" xlink:href=\"#mc82907ef0c\" y=\"138.033144\"/>\n    </g>\n   </g>\n   <g id=\"line2d_16\">\n    <path clip-path=\"url(#pb942d3b4ad)\" d=\"M 41.697869 170.068921 \nL 65.110457 136.336059 \nL 88.523044 31.673011 \nL 111.935632 189.171931 \nL 135.348219 142.938636 \nL 158.760806 128.507135 \nL 182.173394 161.754394 \nL 205.585981 168.269205 \nL 228.998569 172.154378 \nL 252.411156 184.911548 \nL 275.823743 181.237728 \nL 299.236331 178.011751 \nL 322.648918 183.324354 \nL 346.061506 171.084086 \n\" style=\"fill:none;stroke:#55a868;stroke-linecap:round;stroke-width:1.5;\"/>\n    <defs>\n     <path d=\"M 0 -3 \nL -3 3 \nL 3 3 \nz\n\" id=\"mbc8d88d2f9\" style=\"stroke:#55a868;stroke-linejoin:miter;\"/>\n    </defs>\n    <g clip-path=\"url(#pb942d3b4ad)\">\n     <use style=\"fill:#55a868;stroke:#55a868;stroke-linejoin:miter;\" x=\"41.697869\" xlink:href=\"#mbc8d88d2f9\" y=\"170.068921\"/>\n     <use style=\"fill:#55a868;stroke:#55a868;stroke-linejoin:miter;\" x=\"65.110457\" xlink:href=\"#mbc8d88d2f9\" y=\"136.336059\"/>\n     <use style=\"fill:#55a868;stroke:#55a868;stroke-linejoin:miter;\" x=\"88.523044\" xlink:href=\"#mbc8d88d2f9\" y=\"31.673011\"/>\n     <use style=\"fill:#55a868;stroke:#55a868;stroke-linejoin:miter;\" x=\"111.935632\" xlink:href=\"#mbc8d88d2f9\" y=\"189.171931\"/>\n     <use style=\"fill:#55a868;stroke:#55a868;stroke-linejoin:miter;\" x=\"135.348219\" xlink:href=\"#mbc8d88d2f9\" y=\"142.938636\"/>\n     <use style=\"fill:#55a868;stroke:#55a868;stroke-linejoin:miter;\" x=\"158.760806\" xlink:href=\"#mbc8d88d2f9\" y=\"128.507135\"/>\n     <use style=\"fill:#55a868;stroke:#55a868;stroke-linejoin:miter;\" x=\"182.173394\" xlink:href=\"#mbc8d88d2f9\" y=\"161.754394\"/>\n     <use style=\"fill:#55a868;stroke:#55a868;stroke-linejoin:miter;\" x=\"205.585981\" xlink:href=\"#mbc8d88d2f9\" y=\"168.269205\"/>\n     <use style=\"fill:#55a868;stroke:#55a868;stroke-linejoin:miter;\" x=\"228.998569\" xlink:href=\"#mbc8d88d2f9\" y=\"172.154378\"/>\n     <use style=\"fill:#55a868;stroke:#55a868;stroke-linejoin:miter;\" x=\"252.411156\" xlink:href=\"#mbc8d88d2f9\" y=\"184.911548\"/>\n     <use style=\"fill:#55a868;stroke:#55a868;stroke-linejoin:miter;\" x=\"275.823743\" xlink:href=\"#mbc8d88d2f9\" y=\"181.237728\"/>\n     <use style=\"fill:#55a868;stroke:#55a868;stroke-linejoin:miter;\" x=\"299.236331\" xlink:href=\"#mbc8d88d2f9\" y=\"178.011751\"/>\n     <use style=\"fill:#55a868;stroke:#55a868;stroke-linejoin:miter;\" x=\"322.648918\" xlink:href=\"#mbc8d88d2f9\" y=\"183.324354\"/>\n     <use style=\"fill:#55a868;stroke:#55a868;stroke-linejoin:miter;\" x=\"346.061506\" xlink:href=\"#mbc8d88d2f9\" y=\"171.084086\"/>\n    </g>\n   </g>\n   <g id=\"patch_3\">\n    <path d=\"M 26.479688 239.229375 \nL 26.479688 21.789375 \n\" style=\"fill:none;stroke:#ffffff;stroke-linecap:square;stroke-linejoin:miter;stroke-width:1.25;\"/>\n   </g>\n   <g id=\"patch_4\">\n    <path d=\"M 361.279688 239.229375 \nL 361.279688 21.789375 \n\" style=\"fill:none;stroke:#ffffff;stroke-linecap:square;stroke-linejoin:miter;stroke-width:1.25;\"/>\n   </g>\n   <g id=\"patch_5\">\n    <path d=\"M 26.479688 239.229375 \nL 361.279688 239.229375 \n\" style=\"fill:none;stroke:#ffffff;stroke-linecap:square;stroke-linejoin:miter;stroke-width:1.25;\"/>\n   </g>\n   <g id=\"patch_6\">\n    <path d=\"M 26.479688 21.789375 \nL 361.279688 21.789375 \n\" style=\"fill:none;stroke:#ffffff;stroke-linecap:square;stroke-linejoin:miter;stroke-width:1.25;\"/>\n   </g>\n   <g id=\"text_14\">\n    <!-- 건설업 -->\n    <g style=\"fill:#262626;\" transform=\"translate(175.879688 15.789375)scale(0.12 -0.12)\">\n     <defs>\n      <path d=\"M 83.015625 16.609375 \nL 83.015625 47.609375 \nL 54.203125 47.609375 \nL 54.203125 55.421875 \nL 83.015625 55.421875 \nL 83.015625 84.078125 \nL 90.578125 84.078125 \nL 90.578125 16.609375 \nz\nM 13.8125 26.21875 \nQ 10.84375 30.765625 8.984375 32.8125 \nQ 21.09375 37.3125 31.25 47.578125 \nQ 41.40625 57.859375 44.484375 68.3125 \nL 10.40625 68.3125 \nL 10.40625 76.3125 \nL 54.890625 76.3125 \nQ 51.953125 60.015625 40.921875 46.578125 \nQ 29.890625 33.15625 13.8125 26.21875 \nz\nM 90.71875 -4.59375 \nL 24.3125 -4.59375 \nL 24.3125 25.875 \nL 32.078125 25.875 \nL 32.078125 3.328125 \nL 90.71875 3.328125 \nz\n\" id=\"ArialUnicodeMS-44148\"/>\n      <path d=\"M 90.578125 31.109375 \nL 83.015625 31.109375 \nL 83.015625 54.109375 \nL 58.296875 54.109375 \nL 58.296875 61.921875 \nL 83.015625 61.921875 \nL 83.015625 84.078125 \nL 90.578125 84.078125 \nz\nM 54.59375 33.015625 \nQ 45.65625 38.921875 34.1875 54.296875 \nQ 27.046875 42.4375 14.890625 32.171875 \nQ 10.203125 36.921875 8.109375 37.796875 \nQ 30.71875 53.609375 30.71875 74.90625 \nQ 30.71875 77.15625 30.515625 78.71875 \nQ 35.5 77.828125 40.484375 77.484375 \nQ 38.1875 72.703125 38.1875 64.109375 \nQ 38.1875 62.109375 45.109375 53.65625 \nQ 52.046875 45.21875 62.109375 39.015625 \nQ 57.5625 37.3125 54.59375 33.015625 \nz\nM 90.1875 28.21875 \nL 90.1875 8.203125 \nL 33.796875 8.203125 \nL 33.796875 1.703125 \nL 91.703125 1.703125 \nL 91.703125 -6.203125 \nL 26.125 -6.203125 \nL 26.125 15.828125 \nL 82.421875 15.828125 \nL 82.421875 20.515625 \nL 25.875 20.515625 \nL 25.875 28.21875 \nz\n\" id=\"ArialUnicodeMS-49444\"/>\n      <path d=\"M 90.578125 31.109375 \nL 83.015625 31.109375 \nL 83.015625 53.609375 \nL 63.1875 53.609375 \nL 63.1875 61.375 \nL 83.015625 61.375 \nL 83.015625 84.078125 \nL 90.578125 84.078125 \nz\nM 54.78125 56.59375 \nQ 54.78125 47.40625 48.453125 41.15625 \nQ 42.140625 34.90625 31.78125 34.90625 \nQ 21.1875 34.90625 14.984375 40.953125 \nQ 8.796875 47.015625 8.796875 56.6875 \nQ 8.796875 65.625 15.28125 71.796875 \nQ 21.78125 77.984375 31.78125 77.984375 \nQ 42 77.984375 48.390625 71.796875 \nQ 54.78125 65.625 54.78125 56.59375 \nz\nM 47.3125 56.59375 \nQ 47.3125 62.359375 42.765625 66.484375 \nQ 38.234375 70.609375 31.890625 70.609375 \nQ 25.53125 70.609375 21.015625 66.484375 \nQ 16.5 62.359375 16.5 56.59375 \nQ 16.5 50.875 21.015625 46.71875 \nQ 25.53125 42.578125 31.890625 42.578125 \nQ 38.234375 42.578125 42.765625 46.71875 \nQ 47.3125 50.875 47.3125 56.59375 \nz\nM 83.109375 -6.109375 \nL 83.109375 -2.59375 \nL 33.796875 -2.59375 \nL 33.796875 -6.109375 \nL 26.21875 -6.109375 \nL 26.21875 28.421875 \nL 33.796875 28.421875 \nL 33.796875 19.390625 \nL 83.109375 19.390625 \nL 83.109375 28.421875 \nL 90.71875 28.421875 \nL 90.71875 -6.109375 \nz\nM 33.796875 11.625 \nL 33.796875 5.078125 \nL 83.109375 5.078125 \nL 83.109375 11.625 \nz\n\" id=\"ArialUnicodeMS-50629\"/>\n     </defs>\n     <use xlink:href=\"#ArialUnicodeMS-44148\"/>\n     <use x=\"100\" xlink:href=\"#ArialUnicodeMS-49444\"/>\n     <use x=\"200\" xlink:href=\"#ArialUnicodeMS-50629\"/>\n    </g>\n   </g>\n   <g id=\"legend_1\">\n    <g id=\"patch_7\">\n     <path d=\"M 34.179688 233.729375 \nL 93.217031 233.729375 \nQ 95.417031 233.729375 95.417031 231.529375 \nL 95.417031 185.934375 \nQ 95.417031 183.734375 93.217031 183.734375 \nL 34.179688 183.734375 \nQ 31.979688 183.734375 31.979688 185.934375 \nL 31.979688 231.529375 \nQ 31.979688 233.729375 34.179688 233.729375 \nz\n\" style=\"fill:#eaeaf2;opacity:0.8;stroke:#cccccc;stroke-linejoin:miter;\"/>\n    </g>\n    <g id=\"line2d_17\">\n     <path d=\"M 36.379688 192.157969 \nL 58.379688 192.157969 \n\" style=\"fill:none;stroke:#c44e52;stroke-dasharray:5.55,2.4;stroke-dashoffset:0;stroke-width:1.5;\"/>\n    </g>\n    <g id=\"line2d_18\"/>\n    <g id=\"text_15\">\n     <!-- PER -->\n     <g style=\"fill:#262626;\" transform=\"translate(67.179688 196.007969)scale(0.11 -0.11)\">\n      <defs>\n       <path d=\"M 7.71875 71.578125 \nL 34.71875 71.578125 \nQ 41.109375 71.578125 45.71875 70.9375 \nQ 50.34375 70.3125 54.296875 67.640625 \nQ 58.25 64.984375 60.28125 60.421875 \nQ 62.3125 55.859375 62.3125 50.875 \nQ 62.3125 40.96875 55.9375 34.984375 \nQ 49.5625 29 35.5 29 \nL 17.1875 29 \nL 17.1875 0 \nL 7.71875 0 \nz\nM 17.1875 37.5 \nL 35.59375 37.5 \nQ 52.484375 37.5 52.484375 50.59375 \nQ 52.484375 54.890625 50.28125 58.171875 \nQ 48.09375 61.46875 44.890625 62.28125 \nQ 41.703125 63.09375 35.40625 63.09375 \nL 17.1875 63.09375 \nz\n\" id=\"ArialUnicodeMS-80\"/>\n       <path d=\"M 61.375 0 \nL 7.90625 0 \nL 7.90625 71.578125 \nL 59.71875 71.578125 \nL 59.71875 63.09375 \nL 17.390625 63.09375 \nL 17.390625 41.21875 \nL 56.984375 41.21875 \nL 56.984375 32.71875 \nL 17.390625 32.71875 \nL 17.390625 8.5 \nL 61.375 8.5 \nz\n\" id=\"ArialUnicodeMS-69\"/>\n       <path d=\"M 71.09375 0 \nL 59.1875 0 \nQ 48.484375 16.890625 45.890625 20.75 \nQ 43.3125 24.609375 40.453125 27.359375 \nQ 37.59375 30.125 35.078125 30.859375 \nQ 32.5625 31.59375 28.421875 31.59375 \nL 17.484375 31.59375 \nL 17.484375 0 \nL 8.015625 0 \nL 8.015625 71.578125 \nL 39.703125 71.578125 \nQ 46.1875 71.578125 50.578125 70.75 \nQ 54.984375 69.921875 58.296875 67.25 \nQ 61.625 64.59375 63.40625 60.546875 \nQ 65.1875 56.5 65.1875 52 \nQ 65.1875 43.890625 60.0625 38.953125 \nQ 54.9375 34.03125 45.125 32.71875 \nL 45.125 32.515625 \nQ 52.296875 29.34375 58.59375 19.484375 \nz\nM 17.484375 40.09375 \nL 37.796875 40.09375 \nQ 43.953125 40.09375 47.53125 41.140625 \nQ 51.125 42.1875 53.265625 45.21875 \nQ 55.421875 48.25 55.421875 52 \nQ 55.421875 56.890625 51.859375 60.296875 \nQ 48.296875 63.71875 40.09375 63.71875 \nL 17.484375 63.71875 \nz\n\" id=\"ArialUnicodeMS-82\"/>\n      </defs>\n      <use xlink:href=\"#ArialUnicodeMS-80\"/>\n      <use x=\"66.699219\" xlink:href=\"#ArialUnicodeMS-69\"/>\n      <use x=\"133.398438\" xlink:href=\"#ArialUnicodeMS-82\"/>\n     </g>\n    </g>\n    <g id=\"line2d_19\">\n     <path d=\"M 36.379688 207.722969 \nL 58.379688 207.722969 \n\" style=\"fill:none;stroke:#4c72b0;stroke-linecap:round;stroke-width:1.5;\"/>\n    </g>\n    <g id=\"line2d_20\">\n     <g>\n      <use style=\"fill:#4c72b0;stroke:#4c72b0;stroke-linejoin:miter;\" x=\"47.379688\" xlink:href=\"#mc82907ef0c\" y=\"207.722969\"/>\n     </g>\n    </g>\n    <g id=\"text_16\">\n     <!-- ROE -->\n     <g style=\"fill:#262626;\" transform=\"translate(67.179688 211.572969)scale(0.11 -0.11)\">\n      <defs>\n       <path d=\"M 39.015625 72.796875 \nQ 54.046875 72.796875 63.609375 62.59375 \nQ 73.1875 52.390625 73.1875 35.6875 \nQ 73.1875 19.046875 63.5625 8.90625 \nQ 53.953125 -1.21875 39.015625 -1.21875 \nQ 23.53125 -1.21875 14.109375 9.28125 \nQ 4.6875 19.78125 4.6875 34.90625 \nQ 4.6875 52.546875 14.234375 62.671875 \nQ 23.78125 72.796875 39.015625 72.796875 \nz\nM 38.921875 6.890625 \nQ 49.8125 6.890625 56.5625 14.5 \nQ 63.328125 22.125 63.375 35.6875 \nQ 63.375 49.65625 56.46875 57.171875 \nQ 49.5625 64.703125 39.109375 64.703125 \nQ 28.375 64.703125 21.4375 57.328125 \nQ 14.5 49.953125 14.5 34.71875 \nQ 14.5 22.265625 21.28125 14.578125 \nQ 28.078125 6.890625 38.921875 6.890625 \nz\n\" id=\"ArialUnicodeMS-79\"/>\n      </defs>\n      <use xlink:href=\"#ArialUnicodeMS-82\"/>\n      <use x=\"72.216797\" xlink:href=\"#ArialUnicodeMS-79\"/>\n      <use x=\"150\" xlink:href=\"#ArialUnicodeMS-69\"/>\n     </g>\n    </g>\n    <g id=\"line2d_21\">\n     <path d=\"M 36.379688 223.287969 \nL 58.379688 223.287969 \n\" style=\"fill:none;stroke:#55a868;stroke-linecap:round;stroke-width:1.5;\"/>\n    </g>\n    <g id=\"line2d_22\">\n     <g>\n      <use style=\"fill:#55a868;stroke:#55a868;stroke-linejoin:miter;\" x=\"47.379688\" xlink:href=\"#mbc8d88d2f9\" y=\"223.287969\"/>\n     </g>\n    </g>\n    <g id=\"text_17\">\n     <!-- 시총 -->\n     <g style=\"fill:#262626;\" transform=\"translate(67.179688 227.137969)scale(0.11 -0.11)\">\n      <defs>\n       <path d=\"M 90.71875 -6.890625 \nL 83.109375 -6.890625 \nL 83.109375 84.1875 \nL 90.71875 84.1875 \nz\nM 65.28125 12.109375 \nQ 50.59375 23.296875 41.3125 43.703125 \nQ 32.234375 22.46875 15.921875 9.078125 \nQ 12.015625 14.203125 8.984375 15.71875 \nQ 21.625 23.4375 29.484375 38.46875 \nQ 37.359375 53.515625 37.359375 65.53125 \nQ 37.359375 74.90625 36.71875 78.078125 \nL 48.09375 77 \nQ 46.1875 72.90625 45.546875 69.40625 \nQ 44.921875 65.921875 44.921875 55.8125 \nQ 44.921875 54.390625 47.75 48.5 \nQ 50.59375 42.625 53.171875 38.59375 \nQ 55.765625 34.578125 58.78125 30.953125 \nQ 61.8125 27.34375 65.203125 24.265625 \nQ 68.609375 21.1875 72.21875 18.796875 \nQ 67.625 16.015625 65.28125 12.109375 \nz\n\" id=\"ArialUnicodeMS-49884\"/>\n       <path d=\"M 64.890625 72.40625 \nL 35.203125 72.40625 \nL 35.203125 80.171875 \nL 64.890625 80.171875 \nz\nM 87.40625 49.03125 \nL 79.890625 41.21875 \nQ 60.359375 45.796875 49.8125 56.890625 \nQ 38.234375 45.0625 19.1875 40.921875 \nQ 15.53125 46.875 13.1875 48.578125 \nQ 34.03125 52.15625 41.3125 60.296875 \nL 14.109375 60.296875 \nL 14.109375 68.21875 \nL 85.890625 68.21875 \nL 85.890625 60.296875 \nL 58.40625 60.296875 \nQ 67.1875 51.859375 87.40625 49.03125 \nz\nM 53.8125 49.515625 \nL 53.8125 38.921875 \nL 92.09375 38.921875 \nL 92.09375 31.203125 \nL 7.90625 31.203125 \nL 7.90625 38.921875 \nL 46.1875 38.921875 \nL 46.1875 49.515625 \nz\nM 83.890625 10.984375 \nQ 83.890625 2.546875 74.515625 -2.109375 \nQ 65.140625 -6.78125 50.203125 -6.78125 \nQ 34.71875 -6.78125 25.40625 -2.09375 \nQ 16.109375 2.59375 16.109375 11.078125 \nQ 16.109375 19.28125 26.125 24.234375 \nQ 36.140625 29.203125 50.203125 29.203125 \nQ 64.9375 29.203125 74.40625 24.390625 \nQ 83.890625 19.578125 83.890625 10.984375 \nz\nM 51.171875 21.296875 \nQ 39.796875 21.296875 32.109375 18.5625 \nQ 24.421875 15.828125 24.421875 11.078125 \nQ 24.421875 6.9375 32.5625 3.859375 \nQ 40.71875 0.78125 50.203125 0.78125 \nQ 60.640625 0.78125 68.109375 3.8125 \nQ 75.59375 6.84375 75.59375 11.078125 \nQ 75.59375 15.28125 68.453125 18.28125 \nQ 61.328125 21.296875 51.171875 21.296875 \nz\n\" id=\"ArialUnicodeMS-52509\"/>\n      </defs>\n      <use xlink:href=\"#ArialUnicodeMS-49884\"/>\n      <use x=\"100\" xlink:href=\"#ArialUnicodeMS-52509\"/>\n     </g>\n    </g>\n   </g>\n  </g>\n </g>\n <defs>\n  <clipPath id=\"pb942d3b4ad\">\n   <rect height=\"217.44\" width=\"334.8\" x=\"26.479688\" y=\"21.789375\"/>\n  </clipPath>\n </defs>\n</svg>\n",
      "image/png": "[encoded data removed]"
     },
     "metadata": {
      "needs_background": "light"
     }
    }
   ],
   "source": [
    "i = 0\n",
    "df_question = df_norm_std[['산업분류', '년도', 'PER', 'ROE', '시총']][df['산업분류']==df['산업분류'].unique()[i]]\n",
    "plt.plot(df_q1['년도'], df_q1['PER'], 'r--', \n",
    "         df_q1['년도'], df_q1['ROE'], 'bs-', \n",
    "         df_q1['년도'], df_q1['시총'], 'g^-')\n",
    "plt.title('{}'.format(df['산업분류'].unique().tolist()[i]))\n",
    "plt.legend(['PER', 'ROE', '시총'])\n",
    "plt.show()"
   ]
  },
  {
   "cell_type": "code",
   "execution_count": 11,
   "metadata": {},
   "outputs": [
    {
     "output_type": "execute_result",
     "data": {
      "text/plain": [
       "    산업분류    년도       PER       ROE        시총    결정       결과 수익\n",
       "0    건설업  2005  0.252339  1.299236 -0.319363  Hold  1년 뒤 상승  0\n",
       "1    건설업  2006  0.232899  1.501383  0.511515  Hold  1년 뒤 상승  0\n",
       "2    건설업  2007  0.372727  1.041482  3.089481  Hold  1년 뒤 하락  0\n",
       "3    건설업  2008  0.137126  0.834101 -0.789891  Hold  1년 뒤 상승  0\n",
       "4    건설업  2009  0.340279  0.320557  0.348886  Hold  1년 뒤 상승  0\n",
       "..   ...   ...       ...       ...       ...   ...      ... ..\n",
       "289  제조업  2014 -0.204119  0.059944  0.270063   Buy  1년 뒤 상승  1\n",
       "290  제조업  2015  0.656329  0.208005  0.520580  Hold  1년 뒤 상승  0\n",
       "291  제조업  2016  1.238114  0.461301  0.932219  Hold  1년 뒤 상승  0\n",
       "292  제조업  2017  1.492806 -0.056133  1.953584  Sell  1년 뒤 하락  1\n",
       "293  제조업  2018 -1.100283  0.477371  0.945359     -        -  0\n",
       "\n",
       "[294 rows x 8 columns]"
      ],
      "text/html": "<div>\n<style scoped>\n    .dataframe tbody tr th:only-of-type {\n        vertical-align: middle;\n    }\n\n    .dataframe tbody tr th {\n        vertical-align: top;\n    }\n\n    .dataframe thead th {\n        text-align: right;\n    }\n</style>\n<table border=\"1\" class=\"dataframe\">\n  <thead>\n    <tr style=\"text-align: right;\">\n      <th></th>\n      <th>산업분류</th>\n      <th>년도</th>\n      <th>PER</th>\n      <th>ROE</th>\n      <th>시총</th>\n      <th>결정</th>\n      <th>결과</th>\n      <th>수익</th>\n    </tr>\n  </thead>\n  <tbody>\n    <tr>\n      <th>0</th>\n      <td>건설업</td>\n      <td>2005</td>\n      <td>0.252339</td>\n      <td>1.299236</td>\n      <td>-0.319363</td>\n      <td>Hold</td>\n      <td>1년 뒤 상승</td>\n      <td>0</td>\n    </tr>\n    <tr>\n      <th>1</th>\n      <td>건설업</td>\n      <td>2006</td>\n      <td>0.232899</td>\n      <td>1.501383</td>\n      <td>0.511515</td>\n      <td>Hold</td>\n      <td>1년 뒤 상승</td>\n      <td>0</td>\n    </tr>\n    <tr>\n      <th>2</th>\n      <td>건설업</td>\n      <td>2007</td>\n      <td>0.372727</td>\n      <td>1.041482</td>\n      <td>3.089481</td>\n      <td>Hold</td>\n      <td>1년 뒤 하락</td>\n      <td>0</td>\n    </tr>\n    <tr>\n      <th>3</th>\n      <td>건설업</td>\n      <td>2008</td>\n      <td>0.137126</td>\n      <td>0.834101</td>\n      <td>-0.789891</td>\n      <td>Hold</td>\n      <td>1년 뒤 상승</td>\n      <td>0</td>\n    </tr>\n    <tr>\n      <th>4</th>\n      <td>건설업</td>\n      <td>2009</td>\n      <td>0.340279</td>\n      <td>0.320557</td>\n      <td>0.348886</td>\n      <td>Hold</td>\n      <td>1년 뒤 상승</td>\n      <td>0</td>\n    </tr>\n    <tr>\n      <th>...</th>\n      <td>...</td>\n      <td>...</td>\n      <td>...</td>\n      <td>...</td>\n      <td>...</td>\n      <td>...</td>\n      <td>...</td>\n      <td>...</td>\n    </tr>\n    <tr>\n      <th>289</th>\n      <td>제조업</td>\n      <td>2014</td>\n      <td>-0.204119</td>\n      <td>0.059944</td>\n      <td>0.270063</td>\n      <td>Buy</td>\n      <td>1년 뒤 상승</td>\n      <td>1</td>\n    </tr>\n    <tr>\n      <th>290</th>\n      <td>제조업</td>\n      <td>2015</td>\n      <td>0.656329</td>\n      <td>0.208005</td>\n      <td>0.520580</td>\n      <td>Hold</td>\n      <td>1년 뒤 상승</td>\n      <td>0</td>\n    </tr>\n    <tr>\n      <th>291</th>\n      <td>제조업</td>\n      <td>2016</td>\n      <td>1.238114</td>\n      <td>0.461301</td>\n      <td>0.932219</td>\n      <td>Hold</td>\n      <td>1년 뒤 상승</td>\n      <td>0</td>\n    </tr>\n    <tr>\n      <th>292</th>\n      <td>제조업</td>\n      <td>2017</td>\n      <td>1.492806</td>\n      <td>-0.056133</td>\n      <td>1.953584</td>\n      <td>Sell</td>\n      <td>1년 뒤 하락</td>\n      <td>1</td>\n    </tr>\n    <tr>\n      <th>293</th>\n      <td>제조업</td>\n      <td>2018</td>\n      <td>-1.100283</td>\n      <td>0.477371</td>\n      <td>0.945359</td>\n      <td>-</td>\n      <td>-</td>\n      <td>0</td>\n    </tr>\n  </tbody>\n</table>\n<p>294 rows × 8 columns</p>\n</div>"
     },
     "metadata": {},
     "execution_count": 11
    }
   ],
   "source": [
    "# PER 평균 이하 & ROE 평균 이상\n",
    "\n",
    "df_show = pd.DataFrame(columns = ['산업분류', '년도', 'PER', 'ROE', '시총', '결정', '결과', '수익'])\n",
    "\n",
    "for i in range(len(df['산업분류'].unique().tolist())):\n",
    "    df_question = df_norm_std[['산업분류', '년도', 'PER', 'ROE', '시총']][df['산업분류']==df['산업분류'].unique()[i]]\n",
    "\n",
    "\n",
    "\n",
    "\n",
    "    decision = []\n",
    "    result = []\n",
    "    for year in range(2005, 2018):\n",
    "        if (df_question['PER'][df_question['년도']==year] <= 0).bool() and (df_question['ROE'][df_question['년도']==year] >= 0).bool():\n",
    "            decision.append('Buy')\n",
    "        elif (df_question['PER'][df_question['년도']==year] > 0).bool() and (df_question['ROE'][df_question['년도']==year] < 0).bool():\n",
    "            decision.append('Sell')\n",
    "        else:\n",
    "            decision.append('Hold')\n",
    "        \n",
    "        if float(df_question['시총'][df_question['년도'] == year + 1]) > float(df_question['시총'][df_question['년도'] == year]):\n",
    "            result.append('1년 뒤 상승')\n",
    "        else:\n",
    "            result.append('1년 뒤 하락')\n",
    "\n",
    "    decision.append('-')\n",
    "    result.append('-')\n",
    "\n",
    "    df_question['결정'] = decision\n",
    "    df_question['결과'] = result\n",
    "\n",
    "    earning = []\n",
    "    for year in range(2005, 2018):\n",
    "        if (df_question['결정'][df_question['년도'] == year] == 'Buy').bool() and (df_question['결과'][df_question['년도'] == year] == '1년 뒤 상승').bool():\n",
    "            earning.append(1)\n",
    "        elif (df_question['결정'][df_question['년도'] == year] == 'Sell').bool() and (df_question['결과'][df_question['년도'] == year] == '1년 뒤 하락').bool():\n",
    "            earning.append(1)\n",
    "        elif (df_question['결정'][df_question['년도'] == year] == 'Hold').bool():\n",
    "            earning.append(0)\n",
    "        else:\n",
    "            earning.append(-1)\n",
    "    earning.append(0)\n",
    "    df_question['수익'] = earning\n",
    "\n",
    "    df_show = df_show.append(df_question)\n",
    "\n",
    "df_show"
   ]
  },
  {
   "cell_type": "code",
   "execution_count": 12,
   "metadata": {},
   "outputs": [
    {
     "output_type": "execute_result",
     "data": {
      "text/plain": [
       "(False    216\n",
       " True      78\n",
       " Name: 수익, dtype: int64,\n",
       " False    242\n",
       " True      52\n",
       " Name: 수익, dtype: int64)"
      ]
     },
     "metadata": {},
     "execution_count": 12
    }
   ],
   "source": [
    "(df_show['수익']==1).value_counts(), (df_show['수익']==-1).value_counts(),"
   ]
  },
  {
   "cell_type": "code",
   "execution_count": 13,
   "metadata": {},
   "outputs": [
    {
     "output_type": "stream",
     "name": "stdout",
     "text": [
      "건설업 -1\n광업 1\n기계 -3\n기타제조업 -1\n농업, 임업 및 어업 -4\n비금속광물 -1\n서비스업 4\n섬유의복 0\n운수장비 0\n운수창고업 2\n유통업 5\n음식료품 3\n의료·정밀기기 1\n의약품 7\n전기가스 1\n전기전자 2\n종이·목재 -2\n철강금속 3\n통신업 4\n화학 2\n제조업 3\n"
     ]
    }
   ],
   "source": [
    "for i in range(len(df_show['산업분류'].unique().tolist())):\n",
    "    print(df_show['산업분류'].unique().tolist()[i], df_show['수익'][df_show['산업분류'] == df_show['산업분류'].unique().tolist()[i]].sum())\n"
   ]
  },
  {
   "cell_type": "code",
   "execution_count": 14,
   "metadata": {},
   "outputs": [
    {
     "output_type": "stream",
     "name": "stdout",
     "text": [
      "2005 3\n2006 1\n2007 4\n2008 0\n2009 3\n2010 5\n2011 6\n2012 -3\n2013 -1\n2014 0\n2015 -1\n2016 3\n2017 6\n2018 0\n"
     ]
    }
   ],
   "source": [
    "for i in range(len(df_show['년도'].unique().tolist())):\n",
    "    print(df_show['년도'].unique().tolist()[i], df_show['수익'][df_show['년도'] == df_show['년도'].unique().tolist()[i]].sum())"
   ]
  },
  {
   "cell_type": "code",
   "execution_count": 15,
   "metadata": {},
   "outputs": [
    {
     "output_type": "execute_result",
     "data": {
      "text/plain": [
       "    산업분류    년도       PER        ROE        시총    결정       결과  수익\n",
       "0    건설업  2005  0.252339  13.245000 -0.319363  Sell  1년 뒤 상승  -1\n",
       "1    건설업  2006  0.232899  14.790000  0.511515  Sell  1년 뒤 상승  -1\n",
       "2    건설업  2007  0.372727  11.275000  3.089481  Sell  1년 뒤 하락   1\n",
       "3    건설업  2008  0.137126   9.690000 -0.789891  Sell  1년 뒤 상승  -1\n",
       "4    건설업  2009  0.340279   5.765000  0.348886  Sell  1년 뒤 상승  -1\n",
       "..   ...   ...       ...        ...       ...   ...      ...  ..\n",
       "289  제조업  2014 -0.204119   4.212361  0.270063  Hold  1년 뒤 상승   0\n",
       "290  제조업  2015  0.656329   4.475972  0.520580  Sell  1년 뒤 상승  -1\n",
       "291  제조업  2016  1.238114   4.926944  0.932219  Sell  1년 뒤 상승  -1\n",
       "292  제조업  2017  1.492806   4.005694  1.953584  Sell  1년 뒤 하락   1\n",
       "293  제조업  2018 -1.100283   4.955556  0.945359     -        -   0\n",
       "\n",
       "[294 rows x 8 columns]"
      ],
      "text/html": "<div>\n<style scoped>\n    .dataframe tbody tr th:only-of-type {\n        vertical-align: middle;\n    }\n\n    .dataframe tbody tr th {\n        vertical-align: top;\n    }\n\n    .dataframe thead th {\n        text-align: right;\n    }\n</style>\n<table border=\"1\" class=\"dataframe\">\n  <thead>\n    <tr style=\"text-align: right;\">\n      <th></th>\n      <th>산업분류</th>\n      <th>년도</th>\n      <th>PER</th>\n      <th>ROE</th>\n      <th>시총</th>\n      <th>결정</th>\n      <th>결과</th>\n      <th>수익</th>\n    </tr>\n  </thead>\n  <tbody>\n    <tr>\n      <th>0</th>\n      <td>건설업</td>\n      <td>2005</td>\n      <td>0.252339</td>\n      <td>13.245000</td>\n      <td>-0.319363</td>\n      <td>Sell</td>\n      <td>1년 뒤 상승</td>\n      <td>-1</td>\n    </tr>\n    <tr>\n      <th>1</th>\n      <td>건설업</td>\n      <td>2006</td>\n      <td>0.232899</td>\n      <td>14.790000</td>\n      <td>0.511515</td>\n      <td>Sell</td>\n      <td>1년 뒤 상승</td>\n      <td>-1</td>\n    </tr>\n    <tr>\n      <th>2</th>\n      <td>건설업</td>\n      <td>2007</td>\n      <td>0.372727</td>\n      <td>11.275000</td>\n      <td>3.089481</td>\n      <td>Sell</td>\n      <td>1년 뒤 하락</td>\n      <td>1</td>\n    </tr>\n    <tr>\n      <th>3</th>\n      <td>건설업</td>\n      <td>2008</td>\n      <td>0.137126</td>\n      <td>9.690000</td>\n      <td>-0.789891</td>\n      <td>Sell</td>\n      <td>1년 뒤 상승</td>\n      <td>-1</td>\n    </tr>\n    <tr>\n      <th>4</th>\n      <td>건설업</td>\n      <td>2009</td>\n      <td>0.340279</td>\n      <td>5.765000</td>\n      <td>0.348886</td>\n      <td>Sell</td>\n      <td>1년 뒤 상승</td>\n      <td>-1</td>\n    </tr>\n    <tr>\n      <th>...</th>\n      <td>...</td>\n      <td>...</td>\n      <td>...</td>\n      <td>...</td>\n      <td>...</td>\n      <td>...</td>\n      <td>...</td>\n      <td>...</td>\n    </tr>\n    <tr>\n      <th>289</th>\n      <td>제조업</td>\n      <td>2014</td>\n      <td>-0.204119</td>\n      <td>4.212361</td>\n      <td>0.270063</td>\n      <td>Hold</td>\n      <td>1년 뒤 상승</td>\n      <td>0</td>\n    </tr>\n    <tr>\n      <th>290</th>\n      <td>제조업</td>\n      <td>2015</td>\n      <td>0.656329</td>\n      <td>4.475972</td>\n      <td>0.520580</td>\n      <td>Sell</td>\n      <td>1년 뒤 상승</td>\n      <td>-1</td>\n    </tr>\n    <tr>\n      <th>291</th>\n      <td>제조업</td>\n      <td>2016</td>\n      <td>1.238114</td>\n      <td>4.926944</td>\n      <td>0.932219</td>\n      <td>Sell</td>\n      <td>1년 뒤 상승</td>\n      <td>-1</td>\n    </tr>\n    <tr>\n      <th>292</th>\n      <td>제조업</td>\n      <td>2017</td>\n      <td>1.492806</td>\n      <td>4.005694</td>\n      <td>1.953584</td>\n      <td>Sell</td>\n      <td>1년 뒤 하락</td>\n      <td>1</td>\n    </tr>\n    <tr>\n      <th>293</th>\n      <td>제조업</td>\n      <td>2018</td>\n      <td>-1.100283</td>\n      <td>4.955556</td>\n      <td>0.945359</td>\n      <td>-</td>\n      <td>-</td>\n      <td>0</td>\n    </tr>\n  </tbody>\n</table>\n<p>294 rows × 8 columns</p>\n</div>"
     },
     "metadata": {},
     "execution_count": 15
    }
   ],
   "source": [
    "# PER 평균 이하 & ROE 15 이상\n",
    "\n",
    "df_show_pr15 = pd.DataFrame(columns = ['산업분류', '년도', 'PER', 'ROE', '시총', '결정', '결과', '수익'])\n",
    "\n",
    "for i in range(len(df['산업분류'].unique().tolist())):\n",
    "    df_question = df_norm_std[['산업분류', '년도', 'PER', 'ROE', '시총']][df['산업분류']==df['산업분류'].unique()[i]]\n",
    "    df_question['ROE'] = df['ROE'][df['산업분류']==df['산업분류'].unique()[i]]\n",
    "\n",
    "\n",
    "\n",
    "\n",
    "    decision = []\n",
    "    result = []\n",
    "    for year in range(2005, 2018):\n",
    "        if (df_question['PER'][df_question['년도']==year] <= 0).bool() and (df_question['ROE'][df_question['년도']==year] >= 15).bool():\n",
    "            decision.append('Buy')\n",
    "        elif (df_question['PER'][df_question['년도']==year] > 0).bool() and (df_question['ROE'][df_question['년도']==year] < 15).bool():\n",
    "            decision.append('Sell')\n",
    "        else:\n",
    "            decision.append('Hold')\n",
    "        \n",
    "        if float(df_question['시총'][df_question['년도'] == year + 1]) > float(df_question['시총'][df_question['년도'] == year]):\n",
    "            result.append('1년 뒤 상승')\n",
    "        else:\n",
    "            result.append('1년 뒤 하락')\n",
    "\n",
    "    decision.append('-')\n",
    "    result.append('-')\n",
    "\n",
    "    df_question['결정'] = decision\n",
    "    df_question['결과'] = result\n",
    "\n",
    "    earning = []\n",
    "    for year in range(2005, 2018):\n",
    "        if (df_question['결정'][df_question['년도'] == year] == 'Buy').bool() and (df_question['결과'][df_question['년도'] == year] == '1년 뒤 상승').bool():\n",
    "            earning.append(1)\n",
    "        elif (df_question['결정'][df_question['년도'] == year] == 'Sell').bool() and (df_question['결과'][df_question['년도'] == year] == '1년 뒤 하락').bool():\n",
    "            earning.append(1)\n",
    "        elif (df_question['결정'][df_question['년도'] == year] == 'Hold').bool():\n",
    "            earning.append(0)\n",
    "        else:\n",
    "            earning.append(-1)\n",
    "    earning.append(0)\n",
    "    df_question['수익'] = earning\n",
    "\n",
    "    df_show_pr15 = df_show_pr15.append(df_question)\n",
    "\n",
    "df_show_pr15"
   ]
  },
  {
   "cell_type": "code",
   "execution_count": 16,
   "metadata": {},
   "outputs": [
    {
     "output_type": "execute_result",
     "data": {
      "text/plain": [
       "(False    238\n",
       " True      56\n",
       " Name: 수익, dtype: int64,\n",
       " False    219\n",
       " True      75\n",
       " Name: 수익, dtype: int64)"
      ]
     },
     "metadata": {},
     "execution_count": 16
    }
   ],
   "source": [
    "(df_show_pr15['수익']==1).value_counts(), (df_show_pr15['수익']==-1).value_counts() "
   ]
  },
  {
   "cell_type": "code",
   "execution_count": 17,
   "metadata": {},
   "outputs": [
    {
     "output_type": "stream",
     "name": "stdout",
     "text": [
      "건설업 -4\n광업 1\n기계 -2\n기타제조업 -3\n농업, 임업 및 어업 -5\n비금속광물 -3\n서비스업 1\n섬유의복 -3\n운수장비 1\n운수창고업 0\n유통업 2\n음식료품 -2\n의료·정밀기기 -2\n의약품 0\n전기가스 0\n전기전자 1\n종이·목재 -5\n철강금속 2\n통신업 0\n화학 1\n제조업 1\n"
     ]
    }
   ],
   "source": [
    "for i in range(len(df_show_pr15['산업분류'].unique().tolist())):\n",
    "    print(df_show_pr15['산업분류'].unique().tolist()[i], df_show_pr15['수익'][df_show_pr15['산업분류'] == df_show_pr15['산업분류'].unique().tolist()[i]].sum())\n"
   ]
  },
  {
   "cell_type": "code",
   "execution_count": 18,
   "metadata": {},
   "outputs": [
    {
     "output_type": "stream",
     "name": "stdout",
     "text": [
      "2005 -4\n2006 -9\n2007 12\n2008 -6\n2009 -7\n2010 5\n2011 -1\n2012 -2\n2013 -1\n2014 -5\n2015 -3\n2016 -6\n2017 8\n2018 0\n"
     ]
    }
   ],
   "source": [
    "for i in range(len(df_show_pr15['년도'].unique().tolist())):\n",
    "    print(df_show_pr15['년도'].unique().tolist()[i], df_show_pr15['수익'][df_show_pr15['년도'] == df_show_pr15['년도'].unique().tolist()[i]].sum())"
   ]
  },
  {
   "cell_type": "code",
   "execution_count": 19,
   "metadata": {},
   "outputs": [
    {
     "output_type": "execute_result",
     "data": {
      "text/plain": [
       "    산업분류    년도       PER        시총    결정       결과  수익\n",
       "0    건설업  2005  0.252339 -0.319363  Sell  1년 뒤 상승  -1\n",
       "1    건설업  2006  0.232899  0.511515  Sell  1년 뒤 상승  -1\n",
       "2    건설업  2007  0.372727  3.089481  Sell  1년 뒤 하락   1\n",
       "3    건설업  2008  0.137126 -0.789891  Sell  1년 뒤 상승  -1\n",
       "4    건설업  2009  0.340279  0.348886  Sell  1년 뒤 상승  -1\n",
       "..   ...   ...       ...       ...   ...      ...  ..\n",
       "289  제조업  2014 -0.204119  0.270063   Buy  1년 뒤 상승   1\n",
       "290  제조업  2015  0.656329  0.520580  Sell  1년 뒤 상승  -1\n",
       "291  제조업  2016  1.238114  0.932219  Sell  1년 뒤 상승  -1\n",
       "292  제조업  2017  1.492806  1.953584  Sell  1년 뒤 하락   1\n",
       "293  제조업  2018 -1.100283  0.945359     -        -   0\n",
       "\n",
       "[294 rows x 7 columns]"
      ],
      "text/html": "<div>\n<style scoped>\n    .dataframe tbody tr th:only-of-type {\n        vertical-align: middle;\n    }\n\n    .dataframe tbody tr th {\n        vertical-align: top;\n    }\n\n    .dataframe thead th {\n        text-align: right;\n    }\n</style>\n<table border=\"1\" class=\"dataframe\">\n  <thead>\n    <tr style=\"text-align: right;\">\n      <th></th>\n      <th>산업분류</th>\n      <th>년도</th>\n      <th>PER</th>\n      <th>시총</th>\n      <th>결정</th>\n      <th>결과</th>\n      <th>수익</th>\n    </tr>\n  </thead>\n  <tbody>\n    <tr>\n      <th>0</th>\n      <td>건설업</td>\n      <td>2005</td>\n      <td>0.252339</td>\n      <td>-0.319363</td>\n      <td>Sell</td>\n      <td>1년 뒤 상승</td>\n      <td>-1</td>\n    </tr>\n    <tr>\n      <th>1</th>\n      <td>건설업</td>\n      <td>2006</td>\n      <td>0.232899</td>\n      <td>0.511515</td>\n      <td>Sell</td>\n      <td>1년 뒤 상승</td>\n      <td>-1</td>\n    </tr>\n    <tr>\n      <th>2</th>\n      <td>건설업</td>\n      <td>2007</td>\n      <td>0.372727</td>\n      <td>3.089481</td>\n      <td>Sell</td>\n      <td>1년 뒤 하락</td>\n      <td>1</td>\n    </tr>\n    <tr>\n      <th>3</th>\n      <td>건설업</td>\n      <td>2008</td>\n      <td>0.137126</td>\n      <td>-0.789891</td>\n      <td>Sell</td>\n      <td>1년 뒤 상승</td>\n      <td>-1</td>\n    </tr>\n    <tr>\n      <th>4</th>\n      <td>건설업</td>\n      <td>2009</td>\n      <td>0.340279</td>\n      <td>0.348886</td>\n      <td>Sell</td>\n      <td>1년 뒤 상승</td>\n      <td>-1</td>\n    </tr>\n    <tr>\n      <th>...</th>\n      <td>...</td>\n      <td>...</td>\n      <td>...</td>\n      <td>...</td>\n      <td>...</td>\n      <td>...</td>\n      <td>...</td>\n    </tr>\n    <tr>\n      <th>289</th>\n      <td>제조업</td>\n      <td>2014</td>\n      <td>-0.204119</td>\n      <td>0.270063</td>\n      <td>Buy</td>\n      <td>1년 뒤 상승</td>\n      <td>1</td>\n    </tr>\n    <tr>\n      <th>290</th>\n      <td>제조업</td>\n      <td>2015</td>\n      <td>0.656329</td>\n      <td>0.520580</td>\n      <td>Sell</td>\n      <td>1년 뒤 상승</td>\n      <td>-1</td>\n    </tr>\n    <tr>\n      <th>291</th>\n      <td>제조업</td>\n      <td>2016</td>\n      <td>1.238114</td>\n      <td>0.932219</td>\n      <td>Sell</td>\n      <td>1년 뒤 상승</td>\n      <td>-1</td>\n    </tr>\n    <tr>\n      <th>292</th>\n      <td>제조업</td>\n      <td>2017</td>\n      <td>1.492806</td>\n      <td>1.953584</td>\n      <td>Sell</td>\n      <td>1년 뒤 하락</td>\n      <td>1</td>\n    </tr>\n    <tr>\n      <th>293</th>\n      <td>제조업</td>\n      <td>2018</td>\n      <td>-1.100283</td>\n      <td>0.945359</td>\n      <td>-</td>\n      <td>-</td>\n      <td>0</td>\n    </tr>\n  </tbody>\n</table>\n<p>294 rows × 7 columns</p>\n</div>"
     },
     "metadata": {},
     "execution_count": 19
    }
   ],
   "source": [
    "# PER 평균 이하\n",
    "\n",
    "df_show_p = pd.DataFrame(columns = ['산업분류', '년도', 'PER', '시총', '결정', '결과', '수익'])\n",
    "\n",
    "for i in range(len(df['산업분류'].unique().tolist())):\n",
    "    df_question = df_norm_std[['산업분류', '년도', 'PER', '시총']][df['산업분류']==df['산업분류'].unique()[i]]\n",
    "\n",
    "\n",
    "\n",
    "\n",
    "    decision = []\n",
    "    result = []\n",
    "    for year in range(2005, 2018):\n",
    "        if (df_question['PER'][df_question['년도']==year] <= 0).bool():\n",
    "            decision.append('Buy')\n",
    "        else:\n",
    "            decision.append('Sell')\n",
    "      \n",
    "        \n",
    "        if float(df_question['시총'][df_question['년도'] == year + 1]) > float(df_question['시총'][df_question['년도'] == year]):\n",
    "            result.append('1년 뒤 상승')\n",
    "        else:\n",
    "            result.append('1년 뒤 하락')\n",
    "\n",
    "    decision.append('-')\n",
    "    result.append('-')\n",
    "\n",
    "    df_question['결정'] = decision\n",
    "    df_question['결과'] = result\n",
    "\n",
    "    earning = []\n",
    "    for year in range(2005, 2018):\n",
    "        if (df_question['결정'][df_question['년도'] == year] == 'Buy').bool() and (df_question['결과'][df_question['년도'] == year] == '1년 뒤 상승').bool():\n",
    "            earning.append(1)\n",
    "        elif (df_question['결정'][df_question['년도'] == year] == 'Sell').bool() and (df_question['결과'][df_question['년도'] == year] == '1년 뒤 하락').bool():\n",
    "            earning.append(1)\n",
    "        elif (df_question['결정'][df_question['년도'] == year] == 'Hold').bool():\n",
    "            earning.append(0)\n",
    "        else:\n",
    "            earning.append(-1)\n",
    "    earning.append(0)\n",
    "    df_question['수익'] = earning\n",
    "\n",
    "    df_show_p = df_show_p.append(df_question)\n",
    "\n",
    "df_show_p"
   ]
  },
  {
   "cell_type": "code",
   "execution_count": 20,
   "metadata": {},
   "outputs": [
    {
     "output_type": "execute_result",
     "data": {
      "text/plain": [
       "(False    148\n",
       " True     146\n",
       " Name: 수익, dtype: int64,\n",
       " False    167\n",
       " True     127\n",
       " Name: 수익, dtype: int64)"
      ]
     },
     "metadata": {},
     "execution_count": 20
    }
   ],
   "source": [
    "(df_show_p['수익']==1).value_counts(), (df_show_p['수익']==-1).value_counts() "
   ]
  },
  {
   "cell_type": "code",
   "execution_count": 21,
   "metadata": {},
   "outputs": [
    {
     "output_type": "stream",
     "name": "stdout",
     "text": [
      "건설업 -7\n광업 1\n기계 -1\n기타제조업 -3\n농업, 임업 및 어업 -7\n비금속광물 -1\n서비스업 7\n섬유의복 -3\n운수장비 1\n운수창고업 1\n유통업 7\n음식료품 3\n의료·정밀기기 3\n의약품 9\n전기가스 1\n전기전자 3\n종이·목재 -7\n철강금속 1\n통신업 5\n화학 3\n제조업 3\n"
     ]
    }
   ],
   "source": [
    "for i in range(len(df_show_p['산업분류'].unique().tolist())):\n",
    "    print(df_show_p['산업분류'].unique().tolist()[i], df_show_p['수익'][df_show_p['산업분류'] == df_show_p['산업분류'].unique().tolist()[i]].sum())\n"
   ]
  },
  {
   "cell_type": "code",
   "execution_count": 22,
   "metadata": {},
   "outputs": [
    {
     "output_type": "stream",
     "name": "stdout",
     "text": [
      "2005 1\n2006 3\n2007 3\n2008 5\n2009 1\n2010 5\n2011 1\n2012 -1\n2013 3\n2014 -1\n2015 -1\n2016 -3\n2017 3\n2018 0\n"
     ]
    }
   ],
   "source": [
    "for i in range(len(df_show_p['년도'].unique().tolist())):\n",
    "    print(df_show_p['년도'].unique().tolist()[i], df_show_p['수익'][df_show_p['년도'] == df_show_p['년도'].unique().tolist()[i]].sum())"
   ]
  },
  {
   "cell_type": "code",
   "execution_count": 23,
   "metadata": {},
   "outputs": [
    {
     "output_type": "execute_result",
     "data": {
      "text/plain": [
       "    산업분류    년도        ROE        시총    결정       결과  수익\n",
       "0    건설업  2005  13.245000 -0.319363  Sell  1년 뒤 상승  -1\n",
       "1    건설업  2006  14.790000  0.511515  Sell  1년 뒤 상승  -1\n",
       "2    건설업  2007  11.275000  3.089481  Sell  1년 뒤 하락   1\n",
       "3    건설업  2008   9.690000 -0.789891  Sell  1년 뒤 상승  -1\n",
       "4    건설업  2009   5.765000  0.348886  Sell  1년 뒤 상승  -1\n",
       "..   ...   ...        ...       ...   ...      ...  ..\n",
       "289  제조업  2014   4.212361  0.270063  Sell  1년 뒤 상승  -1\n",
       "290  제조업  2015   4.475972  0.520580  Sell  1년 뒤 상승  -1\n",
       "291  제조업  2016   4.926944  0.932219  Sell  1년 뒤 상승  -1\n",
       "292  제조업  2017   4.005694  1.953584  Sell  1년 뒤 하락   1\n",
       "293  제조업  2018   4.955556  0.945359     -        -   0\n",
       "\n",
       "[294 rows x 7 columns]"
      ],
      "text/html": "<div>\n<style scoped>\n    .dataframe tbody tr th:only-of-type {\n        vertical-align: middle;\n    }\n\n    .dataframe tbody tr th {\n        vertical-align: top;\n    }\n\n    .dataframe thead th {\n        text-align: right;\n    }\n</style>\n<table border=\"1\" class=\"dataframe\">\n  <thead>\n    <tr style=\"text-align: right;\">\n      <th></th>\n      <th>산업분류</th>\n      <th>년도</th>\n      <th>ROE</th>\n      <th>시총</th>\n      <th>결정</th>\n      <th>결과</th>\n      <th>수익</th>\n    </tr>\n  </thead>\n  <tbody>\n    <tr>\n      <th>0</th>\n      <td>건설업</td>\n      <td>2005</td>\n      <td>13.245000</td>\n      <td>-0.319363</td>\n      <td>Sell</td>\n      <td>1년 뒤 상승</td>\n      <td>-1</td>\n    </tr>\n    <tr>\n      <th>1</th>\n      <td>건설업</td>\n      <td>2006</td>\n      <td>14.790000</td>\n      <td>0.511515</td>\n      <td>Sell</td>\n      <td>1년 뒤 상승</td>\n      <td>-1</td>\n    </tr>\n    <tr>\n      <th>2</th>\n      <td>건설업</td>\n      <td>2007</td>\n      <td>11.275000</td>\n      <td>3.089481</td>\n      <td>Sell</td>\n      <td>1년 뒤 하락</td>\n      <td>1</td>\n    </tr>\n    <tr>\n      <th>3</th>\n      <td>건설업</td>\n      <td>2008</td>\n      <td>9.690000</td>\n      <td>-0.789891</td>\n      <td>Sell</td>\n      <td>1년 뒤 상승</td>\n      <td>-1</td>\n    </tr>\n    <tr>\n      <th>4</th>\n      <td>건설업</td>\n      <td>2009</td>\n      <td>5.765000</td>\n      <td>0.348886</td>\n      <td>Sell</td>\n      <td>1년 뒤 상승</td>\n      <td>-1</td>\n    </tr>\n    <tr>\n      <th>...</th>\n      <td>...</td>\n      <td>...</td>\n      <td>...</td>\n      <td>...</td>\n      <td>...</td>\n      <td>...</td>\n      <td>...</td>\n    </tr>\n    <tr>\n      <th>289</th>\n      <td>제조업</td>\n      <td>2014</td>\n      <td>4.212361</td>\n      <td>0.270063</td>\n      <td>Sell</td>\n      <td>1년 뒤 상승</td>\n      <td>-1</td>\n    </tr>\n    <tr>\n      <th>290</th>\n      <td>제조업</td>\n      <td>2015</td>\n      <td>4.475972</td>\n      <td>0.520580</td>\n      <td>Sell</td>\n      <td>1년 뒤 상승</td>\n      <td>-1</td>\n    </tr>\n    <tr>\n      <th>291</th>\n      <td>제조업</td>\n      <td>2016</td>\n      <td>4.926944</td>\n      <td>0.932219</td>\n      <td>Sell</td>\n      <td>1년 뒤 상승</td>\n      <td>-1</td>\n    </tr>\n    <tr>\n      <th>292</th>\n      <td>제조업</td>\n      <td>2017</td>\n      <td>4.005694</td>\n      <td>1.953584</td>\n      <td>Sell</td>\n      <td>1년 뒤 하락</td>\n      <td>1</td>\n    </tr>\n    <tr>\n      <th>293</th>\n      <td>제조업</td>\n      <td>2018</td>\n      <td>4.955556</td>\n      <td>0.945359</td>\n      <td>-</td>\n      <td>-</td>\n      <td>0</td>\n    </tr>\n  </tbody>\n</table>\n<p>294 rows × 7 columns</p>\n</div>"
     },
     "metadata": {},
     "execution_count": 23
    }
   ],
   "source": [
    "# ROE 15 이상\n",
    "\n",
    "df_show_r15 = pd.DataFrame(columns = ['산업분류', '년도', 'ROE', '시총', '결정', '결과', '수익'])\n",
    "\n",
    "for i in range(len(df['산업분류'].unique().tolist())):\n",
    "    df_question = df_norm_std[['산업분류', '년도', 'ROE', '시총']][df['산업분류']==df['산업분류'].unique()[i]]\n",
    "    df_question['ROE'] = df['ROE'][df['산업분류']==df['산업분류'].unique()[i]]\n",
    "\n",
    "\n",
    "\n",
    "\n",
    "    decision = []\n",
    "    result = []\n",
    "    for year in range(2005, 2018):\n",
    "        if (df_question['ROE'][df_question['년도']==year] >= 15).bool():\n",
    "            decision.append('Buy')\n",
    "        else:\n",
    "            decision.append('Sell')\n",
    "\n",
    "        \n",
    "        if float(df_question['시총'][df_question['년도'] == year + 1]) > float(df_question['시총'][df_question['년도'] == year]):\n",
    "            result.append('1년 뒤 상승')\n",
    "        else:\n",
    "            result.append('1년 뒤 하락')\n",
    "\n",
    "    decision.append('-')\n",
    "    result.append('-')\n",
    "\n",
    "    df_question['결정'] = decision\n",
    "    df_question['결과'] = result\n",
    "\n",
    "    earning = []\n",
    "    for year in range(2005, 2018):\n",
    "        if (df_question['결정'][df_question['년도'] == year] == 'Buy').bool() and (df_question['결과'][df_question['년도'] == year] == '1년 뒤 상승').bool():\n",
    "            earning.append(1)\n",
    "        elif (df_question['결정'][df_question['년도'] == year] == 'Sell').bool() and (df_question['결과'][df_question['년도'] == year] == '1년 뒤 하락').bool():\n",
    "            earning.append(1)\n",
    "        elif (df_question['결정'][df_question['년도'] == year] == 'Hold').bool():\n",
    "            earning.append(0)\n",
    "        else:\n",
    "            earning.append(-1)\n",
    "    earning.append(0)\n",
    "    df_question['수익'] = earning\n",
    "\n",
    "    df_show_r15 = df_show_r15.append(df_question)\n",
    "\n",
    "df_show_r15"
   ]
  },
  {
   "cell_type": "code",
   "execution_count": 24,
   "metadata": {},
   "outputs": [
    {
     "output_type": "execute_result",
     "data": {
      "text/plain": [
       "(False    186\n",
       " True     108\n",
       " Name: 수익, dtype: int64,\n",
       " True     165\n",
       " False    129\n",
       " Name: 수익, dtype: int64)"
      ]
     },
     "metadata": {},
     "execution_count": 24
    }
   ],
   "source": [
    "(df_show_r15['수익']==1).value_counts(), (df_show_r15['수익']==-1).value_counts() "
   ]
  },
  {
   "cell_type": "code",
   "execution_count": 25,
   "metadata": {},
   "outputs": [
    {
     "output_type": "stream",
     "name": "stdout",
     "text": [
      "건설업 -1\n광업 1\n기계 -3\n기타제조업 -3\n농업, 임업 및 어업 -3\n비금속광물 -5\n서비스업 -5\n섬유의복 -3\n운수장비 1\n운수창고업 -1\n유통업 -3\n음식료품 -7\n의료·정밀기기 -7\n의약품 -9\n전기가스 -1\n전기전자 -1\n종이·목재 -3\n철강금속 3\n통신업 -5\n화학 -1\n제조업 -1\n"
     ]
    }
   ],
   "source": [
    "for i in range(len(df_show_r15['산업분류'].unique().tolist())):\n",
    "    print(df_show_r15['산업분류'].unique().tolist()[i], df_show_r15['수익'][df_show_r15['산업분류'] == df_show_r15['산업분류'].unique().tolist()[i]].sum())\n"
   ]
  },
  {
   "cell_type": "code",
   "execution_count": 26,
   "metadata": {},
   "outputs": [
    {
     "output_type": "stream",
     "name": "stdout",
     "text": [
      "2005 -9\n2006 -21\n2007 21\n2008 -17\n2009 -15\n2010 5\n2011 -3\n2012 -3\n2013 -5\n2014 -9\n2015 -5\n2016 -9\n2017 13\n2018 0\n"
     ]
    }
   ],
   "source": [
    "for i in range(len(df_show_r15['년도'].unique().tolist())):\n",
    "    print(df_show_r15['년도'].unique().tolist()[i], df_show_r15['수익'][df_show_r15['년도'] == df_show_r15['년도'].unique().tolist()[i]].sum())"
   ]
  },
  {
   "cell_type": "code",
   "execution_count": 27,
   "metadata": {},
   "outputs": [
    {
     "output_type": "execute_result",
     "data": {
      "text/plain": [
       "    산업분류    년도       ROE        시총    결정       결과  수익\n",
       "0    건설업  2005  1.299236 -0.319363   Buy  1년 뒤 상승   1\n",
       "1    건설업  2006  1.501383  0.511515   Buy  1년 뒤 상승   1\n",
       "2    건설업  2007  1.041482  3.089481   Buy  1년 뒤 하락  -1\n",
       "3    건설업  2008  0.834101 -0.789891   Buy  1년 뒤 상승   1\n",
       "4    건설업  2009  0.320557  0.348886   Buy  1년 뒤 상승   1\n",
       "..   ...   ...       ...       ...   ...      ...  ..\n",
       "289  제조업  2014  0.059944  0.270063   Buy  1년 뒤 상승   1\n",
       "290  제조업  2015  0.208005  0.520580   Buy  1년 뒤 상승   1\n",
       "291  제조업  2016  0.461301  0.932219   Buy  1년 뒤 상승   1\n",
       "292  제조업  2017 -0.056133  1.953584  Sell  1년 뒤 하락   1\n",
       "293  제조업  2018  0.477371  0.945359     -        -   0\n",
       "\n",
       "[294 rows x 7 columns]"
      ],
      "text/html": "<div>\n<style scoped>\n    .dataframe tbody tr th:only-of-type {\n        vertical-align: middle;\n    }\n\n    .dataframe tbody tr th {\n        vertical-align: top;\n    }\n\n    .dataframe thead th {\n        text-align: right;\n    }\n</style>\n<table border=\"1\" class=\"dataframe\">\n  <thead>\n    <tr style=\"text-align: right;\">\n      <th></th>\n      <th>산업분류</th>\n      <th>년도</th>\n      <th>ROE</th>\n      <th>시총</th>\n      <th>결정</th>\n      <th>결과</th>\n      <th>수익</th>\n    </tr>\n  </thead>\n  <tbody>\n    <tr>\n      <th>0</th>\n      <td>건설업</td>\n      <td>2005</td>\n      <td>1.299236</td>\n      <td>-0.319363</td>\n      <td>Buy</td>\n      <td>1년 뒤 상승</td>\n      <td>1</td>\n    </tr>\n    <tr>\n      <th>1</th>\n      <td>건설업</td>\n      <td>2006</td>\n      <td>1.501383</td>\n      <td>0.511515</td>\n      <td>Buy</td>\n      <td>1년 뒤 상승</td>\n      <td>1</td>\n    </tr>\n    <tr>\n      <th>2</th>\n      <td>건설업</td>\n      <td>2007</td>\n      <td>1.041482</td>\n      <td>3.089481</td>\n      <td>Buy</td>\n      <td>1년 뒤 하락</td>\n      <td>-1</td>\n    </tr>\n    <tr>\n      <th>3</th>\n      <td>건설업</td>\n      <td>2008</td>\n      <td>0.834101</td>\n      <td>-0.789891</td>\n      <td>Buy</td>\n      <td>1년 뒤 상승</td>\n      <td>1</td>\n    </tr>\n    <tr>\n      <th>4</th>\n      <td>건설업</td>\n      <td>2009</td>\n      <td>0.320557</td>\n      <td>0.348886</td>\n      <td>Buy</td>\n      <td>1년 뒤 상승</td>\n      <td>1</td>\n    </tr>\n    <tr>\n      <th>...</th>\n      <td>...</td>\n      <td>...</td>\n      <td>...</td>\n      <td>...</td>\n      <td>...</td>\n      <td>...</td>\n      <td>...</td>\n    </tr>\n    <tr>\n      <th>289</th>\n      <td>제조업</td>\n      <td>2014</td>\n      <td>0.059944</td>\n      <td>0.270063</td>\n      <td>Buy</td>\n      <td>1년 뒤 상승</td>\n      <td>1</td>\n    </tr>\n    <tr>\n      <th>290</th>\n      <td>제조업</td>\n      <td>2015</td>\n      <td>0.208005</td>\n      <td>0.520580</td>\n      <td>Buy</td>\n      <td>1년 뒤 상승</td>\n      <td>1</td>\n    </tr>\n    <tr>\n      <th>291</th>\n      <td>제조업</td>\n      <td>2016</td>\n      <td>0.461301</td>\n      <td>0.932219</td>\n      <td>Buy</td>\n      <td>1년 뒤 상승</td>\n      <td>1</td>\n    </tr>\n    <tr>\n      <th>292</th>\n      <td>제조업</td>\n      <td>2017</td>\n      <td>-0.056133</td>\n      <td>1.953584</td>\n      <td>Sell</td>\n      <td>1년 뒤 하락</td>\n      <td>1</td>\n    </tr>\n    <tr>\n      <th>293</th>\n      <td>제조업</td>\n      <td>2018</td>\n      <td>0.477371</td>\n      <td>0.945359</td>\n      <td>-</td>\n      <td>-</td>\n      <td>0</td>\n    </tr>\n  </tbody>\n</table>\n<p>294 rows × 7 columns</p>\n</div>"
     },
     "metadata": {},
     "execution_count": 27
    }
   ],
   "source": [
    "# ROE 평균 이상\n",
    "\n",
    "df_show_r = pd.DataFrame(columns = ['산업분류', '년도', 'ROE', '시총', '결정', '결과', '수익'])\n",
    "\n",
    "for i in range(len(df['산업분류'].unique().tolist())):\n",
    "    df_question = df_norm_std[['산업분류', '년도', 'ROE', '시총']][df['산업분류']==df['산업분류'].unique()[i]]\n",
    "\n",
    "\n",
    "\n",
    "\n",
    "    decision = []\n",
    "    result = []\n",
    "    for year in range(2005, 2018):\n",
    "        if (df_question['ROE'][df_question['년도']==year] >= 0).bool():\n",
    "            decision.append('Buy')\n",
    "        else:\n",
    "            decision.append('Sell')\n",
    "\n",
    "        \n",
    "        if float(df_question['시총'][df_question['년도'] == year + 1]) > float(df_question['시총'][df_question['년도'] == year]):\n",
    "            result.append('1년 뒤 상승')\n",
    "        else:\n",
    "            result.append('1년 뒤 하락')\n",
    "\n",
    "    decision.append('-')\n",
    "    result.append('-')\n",
    "\n",
    "    df_question['결정'] = decision\n",
    "    df_question['결과'] = result\n",
    "\n",
    "    earning = []\n",
    "    for year in range(2005, 2018):\n",
    "        if (df_question['결정'][df_question['년도'] == year] == 'Buy').bool() and (df_question['결과'][df_question['년도'] == year] == '1년 뒤 상승').bool():\n",
    "            earning.append(1)\n",
    "        elif (df_question['결정'][df_question['년도'] == year] == 'Sell').bool() and (df_question['결과'][df_question['년도'] == year] == '1년 뒤 하락').bool():\n",
    "            earning.append(1)\n",
    "        elif (df_question['결정'][df_question['년도'] == year] == 'Hold').bool():\n",
    "            earning.append(0)\n",
    "        else:\n",
    "            earning.append(-1)\n",
    "    earning.append(0)\n",
    "    df_question['수익'] = earning\n",
    "\n",
    "    df_show_r = df_show_r.append(df_question)\n",
    "\n",
    "df_show_r"
   ]
  },
  {
   "cell_type": "code",
   "execution_count": 28,
   "metadata": {},
   "outputs": [
    {
     "output_type": "execute_result",
     "data": {
      "text/plain": [
       "(True     153\n",
       " False    141\n",
       " Name: 수익, dtype: int64,\n",
       " False    174\n",
       " True     120\n",
       " Name: 수익, dtype: int64)"
      ]
     },
     "metadata": {},
     "execution_count": 28
    }
   ],
   "source": [
    "(df_show_r['수익']==1).value_counts(), (df_show_r['수익']==-1).value_counts() "
   ]
  },
  {
   "cell_type": "code",
   "execution_count": 29,
   "metadata": {},
   "outputs": [
    {
     "output_type": "stream",
     "name": "stdout",
     "text": [
      "건설업 5\n광업 1\n기계 -5\n기타제조업 1\n농업, 임업 및 어업 -1\n비금속광물 -1\n서비스업 1\n섬유의복 3\n운수장비 -1\n운수창고업 3\n유통업 3\n음식료품 3\n의료·정밀기기 -1\n의약품 5\n전기가스 1\n전기전자 1\n종이·목재 3\n철강금속 5\n통신업 3\n화학 1\n제조업 3\n"
     ]
    }
   ],
   "source": [
    "for i in range(len(df_show_r['산업분류'].unique().tolist())):\n",
    "    print(df_show_r['산업분류'].unique().tolist()[i], df_show_r['수익'][df_show_r['산업분류'] == df_show_r['산업분류'].unique().tolist()[i]].sum())\n"
   ]
  },
  {
   "cell_type": "code",
   "execution_count": 30,
   "metadata": {},
   "outputs": [
    {
     "output_type": "stream",
     "name": "stdout",
     "text": [
      "2005 5\n2006 -1\n2007 5\n2008 -5\n2009 5\n2010 5\n2011 11\n2012 -5\n2013 -5\n2014 1\n2015 -1\n2016 9\n2017 9\n2018 0\n"
     ]
    }
   ],
   "source": [
    "for i in range(len(df_show_r['년도'].unique().tolist())):\n",
    "    print(df_show_r['년도'].unique().tolist()[i], df_show_r['수익'][df_show_r['년도'] == df_show_r['년도'].unique().tolist()[i]].sum())"
   ]
  },
  {
   "cell_type": "code",
   "execution_count": null,
   "metadata": {},
   "outputs": [],
   "source": []
  },
  {
   "cell_type": "code",
   "execution_count": null,
   "metadata": {},
   "outputs": [],
   "source": []
  },
  {
   "cell_type": "code",
   "execution_count": null,
   "metadata": {},
   "outputs": [],
   "source": []
  },
  {
   "cell_type": "code",
   "execution_count": null,
   "metadata": {},
   "outputs": [],
   "source": []
  },
  {
   "cell_type": "code",
   "execution_count": null,
   "metadata": {},
   "outputs": [],
   "source": []
  },
  {
   "cell_type": "code",
   "execution_count": null,
   "metadata": {},
   "outputs": [],
   "source": []
  },
  {
   "cell_type": "code",
   "execution_count": null,
   "metadata": {},
   "outputs": [],
   "source": []
  },
  {
   "cell_type": "code",
   "execution_count": null,
   "metadata": {},
   "outputs": [],
   "source": []
  },
  {
   "cell_type": "code",
   "execution_count": 50,
   "metadata": {},
   "outputs": [
    {
     "output_type": "execute_result",
     "data": {
      "text/plain": [
       "[(0.6, 0.43, 0.53, 0.4, 0.56)]"
      ]
     },
     "metadata": {},
     "execution_count": 50
    }
   ],
   "source": [
    "# 데이터 합치기 : 승률\n",
    "\n",
    "win_pr = round((df_show['수익']==1).sum() / ((df_show['수익']==1).sum() +  (df_show['수익']==-1).sum()), 2)\n",
    "win_pr15 = round((df_show_pr15['수익']==1).sum() / ((df_show_pr15['수익']==1).sum() +  (df_show_pr15['수익']==-1).sum()), 2)\n",
    "win_p = round((df_show_p['수익']==1).sum() / ((df_show_p['수익']==1).sum() +  (df_show_p['수익']==-1).sum()), 2)\n",
    "win_r15 = round((df_show_r15['수익']==1).sum() / ((df_show_r15['수익']==1).sum() +  (df_show_r15['수익']==-1).sum()), 2)\n",
    "win_r = round((df_show_r['수익']==1).sum() / ((df_show_r['수익']==1).sum() +  (df_show_r['수익']==-1).sum()), 2)\n",
    "\n",
    "[(win_pr, win_pr15, win_p, win_r15, win_r)]"
   ]
  },
  {
   "cell_type": "code",
   "execution_count": 51,
   "metadata": {},
   "outputs": [
    {
     "output_type": "execute_result",
     "data": {
      "text/plain": [
       "    PER 평균 이하 & ROE 평균 이상  PER 평균 이하 & ROE 15 이상  PER 평균 이하  ROE 15 이상  \\\n",
       "승률                    0.6                   0.43       0.53        0.4   \n",
       "\n",
       "    ROE 평균 이상  \n",
       "승률       0.56  "
      ],
      "text/html": "<div>\n<style scoped>\n    .dataframe tbody tr th:only-of-type {\n        vertical-align: middle;\n    }\n\n    .dataframe tbody tr th {\n        vertical-align: top;\n    }\n\n    .dataframe thead th {\n        text-align: right;\n    }\n</style>\n<table border=\"1\" class=\"dataframe\">\n  <thead>\n    <tr style=\"text-align: right;\">\n      <th></th>\n      <th>PER 평균 이하 &amp; ROE 평균 이상</th>\n      <th>PER 평균 이하 &amp; ROE 15 이상</th>\n      <th>PER 평균 이하</th>\n      <th>ROE 15 이상</th>\n      <th>ROE 평균 이상</th>\n    </tr>\n  </thead>\n  <tbody>\n    <tr>\n      <th>승률</th>\n      <td>0.6</td>\n      <td>0.43</td>\n      <td>0.53</td>\n      <td>0.4</td>\n      <td>0.56</td>\n    </tr>\n  </tbody>\n</table>\n</div>"
     },
     "metadata": {},
     "execution_count": 51
    }
   ],
   "source": [
    "df_win = pd.DataFrame(columns=['PER 평균 이하 & ROE 평균 이상', 'PER 평균 이하 & ROE 15 이상', 'PER 평균 이하', 'ROE 15 이상', 'ROE 평균 이상'], index=['승률'], data=[(win_pr, win_pr15, win_p, win_r15, win_r)])\n",
    "df_win"
   ]
  },
  {
   "cell_type": "code",
   "execution_count": 52,
   "metadata": {},
   "outputs": [],
   "source": [
    "# 데이터 합치기 - 산업별\n",
    "idx = df_show['산업분류'].unique().tolist()\n",
    "ls_pr, ls_pr15, ls_p, ls_r15, ls_r = [], [], [], [], []\n",
    "for i in range(len(df_show['산업분류'].unique().tolist())):\n",
    "    ls_pr.append(df_show['수익'][df_show['산업분류'] == df_show['산업분류'].unique().tolist()[i]].sum())\n",
    "    ls_pr15.append(df_show_pr15['수익'][df_show['산업분류'] == df_show['산업분류'].unique().tolist()[i]].sum())\n",
    "    ls_p.append(df_show_p['수익'][df_show['산업분류'] == df_show['산업분류'].unique().tolist()[i]].sum())\n",
    "    ls_r15.append(df_show_r15['수익'][df_show['산업분류'] == df_show['산업분류'].unique().tolist()[i]].sum())\n",
    "    ls_r.append(df_show_r['수익'][df_show['산업분류'] == df_show['산업분류'].unique().tolist()[i]].sum())"
   ]
  },
  {
   "cell_type": "code",
   "execution_count": 53,
   "metadata": {},
   "outputs": [
    {
     "output_type": "execute_result",
     "data": {
      "text/plain": [
       "             PER 평균 이하 & ROE 평균 이상  PER 평균 이하 & ROE 15 이상  PER 평균 이하  \\\n",
       "건설업                             -1                     -4         -7   \n",
       "광업                               1                      1          1   \n",
       "기계                              -3                     -2         -1   \n",
       "기타제조업                           -1                     -3         -3   \n",
       "농업, 임업 및 어업                     -4                     -5         -7   \n",
       "비금속광물                           -1                     -3         -1   \n",
       "서비스업                             4                      1          7   \n",
       "섬유의복                             0                     -3         -3   \n",
       "운수장비                             0                      1          1   \n",
       "운수창고업                            2                      0          1   \n",
       "유통업                              5                      2          7   \n",
       "음식료품                             3                     -2          3   \n",
       "의료·정밀기기                          1                     -2          3   \n",
       "의약품                              7                      0          9   \n",
       "전기가스                             1                      0          1   \n",
       "전기전자                             2                      1          3   \n",
       "종이·목재                           -2                     -5         -7   \n",
       "철강금속                             3                      2          1   \n",
       "통신업                              4                      0          5   \n",
       "화학                               2                      1          3   \n",
       "제조업                              3                      1          3   \n",
       "\n",
       "             ROE 15 이상  ROE 평균 이상  \n",
       "건설업                 -1          5  \n",
       "광업                   1          1  \n",
       "기계                  -3         -5  \n",
       "기타제조업               -3          1  \n",
       "농업, 임업 및 어업         -3         -1  \n",
       "비금속광물               -5         -1  \n",
       "서비스업                -5          1  \n",
       "섬유의복                -3          3  \n",
       "운수장비                 1         -1  \n",
       "운수창고업               -1          3  \n",
       "유통업                 -3          3  \n",
       "음식료품                -7          3  \n",
       "의료·정밀기기             -7         -1  \n",
       "의약품                 -9          5  \n",
       "전기가스                -1          1  \n",
       "전기전자                -1          1  \n",
       "종이·목재               -3          3  \n",
       "철강금속                 3          5  \n",
       "통신업                 -5          3  \n",
       "화학                  -1          1  \n",
       "제조업                 -1          3  "
      ],
      "text/html": "<div>\n<style scoped>\n    .dataframe tbody tr th:only-of-type {\n        vertical-align: middle;\n    }\n\n    .dataframe tbody tr th {\n        vertical-align: top;\n    }\n\n    .dataframe thead th {\n        text-align: right;\n    }\n</style>\n<table border=\"1\" class=\"dataframe\">\n  <thead>\n    <tr style=\"text-align: right;\">\n      <th></th>\n      <th>PER 평균 이하 &amp; ROE 평균 이상</th>\n      <th>PER 평균 이하 &amp; ROE 15 이상</th>\n      <th>PER 평균 이하</th>\n      <th>ROE 15 이상</th>\n      <th>ROE 평균 이상</th>\n    </tr>\n  </thead>\n  <tbody>\n    <tr>\n      <th>건설업</th>\n      <td>-1</td>\n      <td>-4</td>\n      <td>-7</td>\n      <td>-1</td>\n      <td>5</td>\n    </tr>\n    <tr>\n      <th>광업</th>\n      <td>1</td>\n      <td>1</td>\n      <td>1</td>\n      <td>1</td>\n      <td>1</td>\n    </tr>\n    <tr>\n      <th>기계</th>\n      <td>-3</td>\n      <td>-2</td>\n      <td>-1</td>\n      <td>-3</td>\n      <td>-5</td>\n    </tr>\n    <tr>\n      <th>기타제조업</th>\n      <td>-1</td>\n      <td>-3</td>\n      <td>-3</td>\n      <td>-3</td>\n      <td>1</td>\n    </tr>\n    <tr>\n      <th>농업, 임업 및 어업</th>\n      <td>-4</td>\n      <td>-5</td>\n      <td>-7</td>\n      <td>-3</td>\n      <td>-1</td>\n    </tr>\n    <tr>\n      <th>비금속광물</th>\n      <td>-1</td>\n      <td>-3</td>\n      <td>-1</td>\n      <td>-5</td>\n      <td>-1</td>\n    </tr>\n    <tr>\n      <th>서비스업</th>\n      <td>4</td>\n      <td>1</td>\n      <td>7</td>\n      <td>-5</td>\n      <td>1</td>\n    </tr>\n    <tr>\n      <th>섬유의복</th>\n      <td>0</td>\n      <td>-3</td>\n      <td>-3</td>\n      <td>-3</td>\n      <td>3</td>\n    </tr>\n    <tr>\n      <th>운수장비</th>\n      <td>0</td>\n      <td>1</td>\n      <td>1</td>\n      <td>1</td>\n      <td>-1</td>\n    </tr>\n    <tr>\n      <th>운수창고업</th>\n      <td>2</td>\n      <td>0</td>\n      <td>1</td>\n      <td>-1</td>\n      <td>3</td>\n    </tr>\n    <tr>\n      <th>유통업</th>\n      <td>5</td>\n      <td>2</td>\n      <td>7</td>\n      <td>-3</td>\n      <td>3</td>\n    </tr>\n    <tr>\n      <th>음식료품</th>\n      <td>3</td>\n      <td>-2</td>\n      <td>3</td>\n      <td>-7</td>\n      <td>3</td>\n    </tr>\n    <tr>\n      <th>의료·정밀기기</th>\n      <td>1</td>\n      <td>-2</td>\n      <td>3</td>\n      <td>-7</td>\n      <td>-1</td>\n    </tr>\n    <tr>\n      <th>의약품</th>\n      <td>7</td>\n      <td>0</td>\n      <td>9</td>\n      <td>-9</td>\n      <td>5</td>\n    </tr>\n    <tr>\n      <th>전기가스</th>\n      <td>1</td>\n      <td>0</td>\n      <td>1</td>\n      <td>-1</td>\n      <td>1</td>\n    </tr>\n    <tr>\n      <th>전기전자</th>\n      <td>2</td>\n      <td>1</td>\n      <td>3</td>\n      <td>-1</td>\n      <td>1</td>\n    </tr>\n    <tr>\n      <th>종이·목재</th>\n      <td>-2</td>\n      <td>-5</td>\n      <td>-7</td>\n      <td>-3</td>\n      <td>3</td>\n    </tr>\n    <tr>\n      <th>철강금속</th>\n      <td>3</td>\n      <td>2</td>\n      <td>1</td>\n      <td>3</td>\n      <td>5</td>\n    </tr>\n    <tr>\n      <th>통신업</th>\n      <td>4</td>\n      <td>0</td>\n      <td>5</td>\n      <td>-5</td>\n      <td>3</td>\n    </tr>\n    <tr>\n      <th>화학</th>\n      <td>2</td>\n      <td>1</td>\n      <td>3</td>\n      <td>-1</td>\n      <td>1</td>\n    </tr>\n    <tr>\n      <th>제조업</th>\n      <td>3</td>\n      <td>1</td>\n      <td>3</td>\n      <td>-1</td>\n      <td>3</td>\n    </tr>\n  </tbody>\n</table>\n</div>"
     },
     "metadata": {},
     "execution_count": 53
    }
   ],
   "source": [
    "df_ind = pd.DataFrame(\n",
    "    columns=['PER 평균 이하 & ROE 평균 이상', 'PER 평균 이하 & ROE 15 이상', 'PER 평균 이하', 'ROE 15 이상', 'ROE 평균 이상'], \n",
    "    index=[idx])\n",
    "df_ind['PER 평균 이하 & ROE 평균 이상'] = ls_pr\n",
    "df_ind['PER 평균 이하 & ROE 15 이상'] = ls_pr15\n",
    "df_ind['PER 평균 이하'] = ls_p\n",
    "df_ind['ROE 15 이상'] = ls_r15\n",
    "df_ind['ROE 평균 이상'] = ls_r\n",
    "df_ind"
   ]
  },
  {
   "cell_type": "code",
   "execution_count": 54,
   "metadata": {},
   "outputs": [],
   "source": [
    "idx = df_show['산업분류'].unique().tolist()\n",
    "ls_pr, ls_pr15, ls_p, ls_r15, ls_r = [], [], [], [], []\n",
    "for i in range(len(df_show['산업분류'].unique().tolist())):\n",
    "    ls_pr.append(df_show['수익'][df_show['산업분류'] == df_show['산업분류'].unique().tolist()[i]].sum())\n",
    "    ls_pr15.append(df_show_pr15['수익'][df_show['산업분류'] == df_show['산업분류'].unique().tolist()[i]].sum())\n",
    "    ls_p.append(df_show_p['수익'][df_show['산업분류'] == df_show['산업분류'].unique().tolist()[i]].sum())\n",
    "    ls_r15.append(df_show_r15['수익'][df_show['산업분류'] == df_show['산업분류'].unique().tolist()[i]].sum())\n",
    "    ls_r.append(df_show_r['수익'][df_show['산업분류'] == df_show['산업분류'].unique().tolist()[i]].sum())"
   ]
  },
  {
   "cell_type": "code",
   "execution_count": 55,
   "metadata": {},
   "outputs": [
    {
     "output_type": "execute_result",
     "data": {
      "text/plain": [
       "             PER 평균 이하 & ROE 평균 이상  PER 평균 이하 & ROE 15 이상  PER 평균 이하  \\\n",
       "건설업                             -1                     -4         -7   \n",
       "광업                               1                      1          1   \n",
       "기계                              -3                     -2         -1   \n",
       "기타제조업                           -1                     -3         -3   \n",
       "농업, 임업 및 어업                     -4                     -5         -7   \n",
       "비금속광물                           -1                     -3         -1   \n",
       "서비스업                             4                      1          7   \n",
       "섬유의복                             0                     -3         -3   \n",
       "운수장비                             0                      1          1   \n",
       "운수창고업                            2                      0          1   \n",
       "유통업                              5                      2          7   \n",
       "음식료품                             3                     -2          3   \n",
       "의료·정밀기기                          1                     -2          3   \n",
       "의약품                              7                      0          9   \n",
       "전기가스                             1                      0          1   \n",
       "전기전자                             2                      1          3   \n",
       "종이·목재                           -2                     -5         -7   \n",
       "철강금속                             3                      2          1   \n",
       "통신업                              4                      0          5   \n",
       "화학                               2                      1          3   \n",
       "제조업                              3                      1          3   \n",
       "\n",
       "             ROE 15 이상  ROE 평균 이상  \n",
       "건설업                 -1          5  \n",
       "광업                   1          1  \n",
       "기계                  -3         -5  \n",
       "기타제조업               -3          1  \n",
       "농업, 임업 및 어업         -3         -1  \n",
       "비금속광물               -5         -1  \n",
       "서비스업                -5          1  \n",
       "섬유의복                -3          3  \n",
       "운수장비                 1         -1  \n",
       "운수창고업               -1          3  \n",
       "유통업                 -3          3  \n",
       "음식료품                -7          3  \n",
       "의료·정밀기기             -7         -1  \n",
       "의약품                 -9          5  \n",
       "전기가스                -1          1  \n",
       "전기전자                -1          1  \n",
       "종이·목재               -3          3  \n",
       "철강금속                 3          5  \n",
       "통신업                 -5          3  \n",
       "화학                  -1          1  \n",
       "제조업                 -1          3  "
      ],
      "text/html": "<div>\n<style scoped>\n    .dataframe tbody tr th:only-of-type {\n        vertical-align: middle;\n    }\n\n    .dataframe tbody tr th {\n        vertical-align: top;\n    }\n\n    .dataframe thead th {\n        text-align: right;\n    }\n</style>\n<table border=\"1\" class=\"dataframe\">\n  <thead>\n    <tr style=\"text-align: right;\">\n      <th></th>\n      <th>PER 평균 이하 &amp; ROE 평균 이상</th>\n      <th>PER 평균 이하 &amp; ROE 15 이상</th>\n      <th>PER 평균 이하</th>\n      <th>ROE 15 이상</th>\n      <th>ROE 평균 이상</th>\n    </tr>\n  </thead>\n  <tbody>\n    <tr>\n      <th>건설업</th>\n      <td>-1</td>\n      <td>-4</td>\n      <td>-7</td>\n      <td>-1</td>\n      <td>5</td>\n    </tr>\n    <tr>\n      <th>광업</th>\n      <td>1</td>\n      <td>1</td>\n      <td>1</td>\n      <td>1</td>\n      <td>1</td>\n    </tr>\n    <tr>\n      <th>기계</th>\n      <td>-3</td>\n      <td>-2</td>\n      <td>-1</td>\n      <td>-3</td>\n      <td>-5</td>\n    </tr>\n    <tr>\n      <th>기타제조업</th>\n      <td>-1</td>\n      <td>-3</td>\n      <td>-3</td>\n      <td>-3</td>\n      <td>1</td>\n    </tr>\n    <tr>\n      <th>농업, 임업 및 어업</th>\n      <td>-4</td>\n      <td>-5</td>\n      <td>-7</td>\n      <td>-3</td>\n      <td>-1</td>\n    </tr>\n    <tr>\n      <th>비금속광물</th>\n      <td>-1</td>\n      <td>-3</td>\n      <td>-1</td>\n      <td>-5</td>\n      <td>-1</td>\n    </tr>\n    <tr>\n      <th>서비스업</th>\n      <td>4</td>\n      <td>1</td>\n      <td>7</td>\n      <td>-5</td>\n      <td>1</td>\n    </tr>\n    <tr>\n      <th>섬유의복</th>\n      <td>0</td>\n      <td>-3</td>\n      <td>-3</td>\n      <td>-3</td>\n      <td>3</td>\n    </tr>\n    <tr>\n      <th>운수장비</th>\n      <td>0</td>\n      <td>1</td>\n      <td>1</td>\n      <td>1</td>\n      <td>-1</td>\n    </tr>\n    <tr>\n      <th>운수창고업</th>\n      <td>2</td>\n      <td>0</td>\n      <td>1</td>\n      <td>-1</td>\n      <td>3</td>\n    </tr>\n    <tr>\n      <th>유통업</th>\n      <td>5</td>\n      <td>2</td>\n      <td>7</td>\n      <td>-3</td>\n      <td>3</td>\n    </tr>\n    <tr>\n      <th>음식료품</th>\n      <td>3</td>\n      <td>-2</td>\n      <td>3</td>\n      <td>-7</td>\n      <td>3</td>\n    </tr>\n    <tr>\n      <th>의료·정밀기기</th>\n      <td>1</td>\n      <td>-2</td>\n      <td>3</td>\n      <td>-7</td>\n      <td>-1</td>\n    </tr>\n    <tr>\n      <th>의약품</th>\n      <td>7</td>\n      <td>0</td>\n      <td>9</td>\n      <td>-9</td>\n      <td>5</td>\n    </tr>\n    <tr>\n      <th>전기가스</th>\n      <td>1</td>\n      <td>0</td>\n      <td>1</td>\n      <td>-1</td>\n      <td>1</td>\n    </tr>\n    <tr>\n      <th>전기전자</th>\n      <td>2</td>\n      <td>1</td>\n      <td>3</td>\n      <td>-1</td>\n      <td>1</td>\n    </tr>\n    <tr>\n      <th>종이·목재</th>\n      <td>-2</td>\n      <td>-5</td>\n      <td>-7</td>\n      <td>-3</td>\n      <td>3</td>\n    </tr>\n    <tr>\n      <th>철강금속</th>\n      <td>3</td>\n      <td>2</td>\n      <td>1</td>\n      <td>3</td>\n      <td>5</td>\n    </tr>\n    <tr>\n      <th>통신업</th>\n      <td>4</td>\n      <td>0</td>\n      <td>5</td>\n      <td>-5</td>\n      <td>3</td>\n    </tr>\n    <tr>\n      <th>화학</th>\n      <td>2</td>\n      <td>1</td>\n      <td>3</td>\n      <td>-1</td>\n      <td>1</td>\n    </tr>\n    <tr>\n      <th>제조업</th>\n      <td>3</td>\n      <td>1</td>\n      <td>3</td>\n      <td>-1</td>\n      <td>3</td>\n    </tr>\n  </tbody>\n</table>\n</div>"
     },
     "metadata": {},
     "execution_count": 55
    }
   ],
   "source": [
    "df_ind = pd.DataFrame(\n",
    "    columns=['PER 평균 이하 & ROE 평균 이상', 'PER 평균 이하 & ROE 15 이상', 'PER 평균 이하', 'ROE 15 이상', 'ROE 평균 이상'], \n",
    "    index=[idx])\n",
    "df_ind['PER 평균 이하 & ROE 평균 이상'] = ls_pr\n",
    "df_ind['PER 평균 이하 & ROE 15 이상'] = ls_pr15\n",
    "df_ind['PER 평균 이하'] = ls_p\n",
    "df_ind['ROE 15 이상'] = ls_r15\n",
    "df_ind['ROE 평균 이상'] = ls_r\n",
    "df_ind"
   ]
  },
  {
   "cell_type": "code",
   "execution_count": 56,
   "metadata": {},
   "outputs": [],
   "source": [
    "# 데이터 합치기 - 연도별\n",
    "idx = df_show['년도'].unique().tolist()\n",
    "ls_pr, ls_pr15, ls_p, ls_r15, ls_r = [], [], [], [], []\n",
    "for i in range(len(df_show['년도'].unique().tolist())):\n",
    "    ls_pr.append(df_show['수익'][df_show['년도'] == df_show['년도'].unique().tolist()[i]].sum())\n",
    "    ls_pr15.append(df_show_pr15['수익'][df_show['년도'] == df_show['년도'].unique().tolist()[i]].sum())\n",
    "    ls_p.append(df_show_p['수익'][df_show['년도'] == df_show['년도'].unique().tolist()[i]].sum())\n",
    "    ls_r15.append(df_show_r15['수익'][df_show['년도'] == df_show['년도'].unique().tolist()[i]].sum())\n",
    "    ls_r.append(df_show_r['수익'][df_show['년도'] == df_show['년도'].unique().tolist()[i]].sum())"
   ]
  },
  {
   "cell_type": "code",
   "execution_count": 57,
   "metadata": {},
   "outputs": [
    {
     "output_type": "execute_result",
     "data": {
      "text/plain": [
       "      PER 평균 이하 & ROE 평균 이상  PER 평균 이하 & ROE 15 이상  PER 평균 이하  ROE 15 이상  \\\n",
       "2005                      3                     -4          1         -9   \n",
       "2006                      1                     -9          3        -21   \n",
       "2007                      4                     12          3         21   \n",
       "2008                      0                     -6          5        -17   \n",
       "2009                      3                     -7          1        -15   \n",
       "2010                      5                      5          5          5   \n",
       "2011                      6                     -1          1         -3   \n",
       "2012                     -3                     -2         -1         -3   \n",
       "2013                     -1                     -1          3         -5   \n",
       "2014                      0                     -5         -1         -9   \n",
       "2015                     -1                     -3         -1         -5   \n",
       "2016                      3                     -6         -3         -9   \n",
       "2017                      6                      8          3         13   \n",
       "2018                      0                      0          0          0   \n",
       "\n",
       "      ROE 평균 이상  \n",
       "2005          5  \n",
       "2006         -1  \n",
       "2007          5  \n",
       "2008         -5  \n",
       "2009          5  \n",
       "2010          5  \n",
       "2011         11  \n",
       "2012         -5  \n",
       "2013         -5  \n",
       "2014          1  \n",
       "2015         -1  \n",
       "2016          9  \n",
       "2017          9  \n",
       "2018          0  "
      ],
      "text/html": "<div>\n<style scoped>\n    .dataframe tbody tr th:only-of-type {\n        vertical-align: middle;\n    }\n\n    .dataframe tbody tr th {\n        vertical-align: top;\n    }\n\n    .dataframe thead th {\n        text-align: right;\n    }\n</style>\n<table border=\"1\" class=\"dataframe\">\n  <thead>\n    <tr style=\"text-align: right;\">\n      <th></th>\n      <th>PER 평균 이하 &amp; ROE 평균 이상</th>\n      <th>PER 평균 이하 &amp; ROE 15 이상</th>\n      <th>PER 평균 이하</th>\n      <th>ROE 15 이상</th>\n      <th>ROE 평균 이상</th>\n    </tr>\n  </thead>\n  <tbody>\n    <tr>\n      <th>2005</th>\n      <td>3</td>\n      <td>-4</td>\n      <td>1</td>\n      <td>-9</td>\n      <td>5</td>\n    </tr>\n    <tr>\n      <th>2006</th>\n      <td>1</td>\n      <td>-9</td>\n      <td>3</td>\n      <td>-21</td>\n      <td>-1</td>\n    </tr>\n    <tr>\n      <th>2007</th>\n      <td>4</td>\n      <td>12</td>\n      <td>3</td>\n      <td>21</td>\n      <td>5</td>\n    </tr>\n    <tr>\n      <th>2008</th>\n      <td>0</td>\n      <td>-6</td>\n      <td>5</td>\n      <td>-17</td>\n      <td>-5</td>\n    </tr>\n    <tr>\n      <th>2009</th>\n      <td>3</td>\n      <td>-7</td>\n      <td>1</td>\n      <td>-15</td>\n      <td>5</td>\n    </tr>\n    <tr>\n      <th>2010</th>\n      <td>5</td>\n      <td>5</td>\n      <td>5</td>\n      <td>5</td>\n      <td>5</td>\n    </tr>\n    <tr>\n      <th>2011</th>\n      <td>6</td>\n      <td>-1</td>\n      <td>1</td>\n      <td>-3</td>\n      <td>11</td>\n    </tr>\n    <tr>\n      <th>2012</th>\n      <td>-3</td>\n      <td>-2</td>\n      <td>-1</td>\n      <td>-3</td>\n      <td>-5</td>\n    </tr>\n    <tr>\n      <th>2013</th>\n      <td>-1</td>\n      <td>-1</td>\n      <td>3</td>\n      <td>-5</td>\n      <td>-5</td>\n    </tr>\n    <tr>\n      <th>2014</th>\n      <td>0</td>\n      <td>-5</td>\n      <td>-1</td>\n      <td>-9</td>\n      <td>1</td>\n    </tr>\n    <tr>\n      <th>2015</th>\n      <td>-1</td>\n      <td>-3</td>\n      <td>-1</td>\n      <td>-5</td>\n      <td>-1</td>\n    </tr>\n    <tr>\n      <th>2016</th>\n      <td>3</td>\n      <td>-6</td>\n      <td>-3</td>\n      <td>-9</td>\n      <td>9</td>\n    </tr>\n    <tr>\n      <th>2017</th>\n      <td>6</td>\n      <td>8</td>\n      <td>3</td>\n      <td>13</td>\n      <td>9</td>\n    </tr>\n    <tr>\n      <th>2018</th>\n      <td>0</td>\n      <td>0</td>\n      <td>0</td>\n      <td>0</td>\n      <td>0</td>\n    </tr>\n  </tbody>\n</table>\n</div>"
     },
     "metadata": {},
     "execution_count": 57
    }
   ],
   "source": [
    "df_year = pd.DataFrame(\n",
    "    columns=['PER 평균 이하 & ROE 평균 이상', 'PER 평균 이하 & ROE 15 이상', 'PER 평균 이하', 'ROE 15 이상', 'ROE 평균 이상'], \n",
    "    index=[idx])\n",
    "df_year['PER 평균 이하 & ROE 평균 이상'] = ls_pr\n",
    "df_year['PER 평균 이하 & ROE 15 이상'] = ls_pr15\n",
    "df_year['PER 평균 이하'] = ls_p\n",
    "df_year['ROE 15 이상'] = ls_r15\n",
    "df_year['ROE 평균 이상'] = ls_r\n",
    "df_year"
   ]
  },
  {
   "cell_type": "code",
   "execution_count": 58,
   "metadata": {},
   "outputs": [],
   "source": [
    "df_win['Avg'] = df_win.mean(axis=1)\n",
    "df_ind['Avg'] = df_ind.mean(axis=1)\n",
    "df_year['Avg'] = df_year.mean(axis=1)\n",
    "df_ind.loc['Avg'] = round(df_ind.mean(axis=0),1)\n",
    "df_year.loc['Avg'] = round(df_year.mean(axis=0), 1)"
   ]
  },
  {
   "cell_type": "code",
   "execution_count": 59,
   "metadata": {},
   "outputs": [
    {
     "output_type": "execute_result",
     "data": {
      "text/plain": [
       "                PER 평균 이하 & ROE 평균 이상  PER 평균 이하 & ROE 15 이상  PER 평균 이하  \\\n",
       "(건설업,)                           -1.0                   -4.0       -7.0   \n",
       "(광업,)                             1.0                    1.0        1.0   \n",
       "(기계,)                            -3.0                   -2.0       -1.0   \n",
       "(기타제조업,)                         -1.0                   -3.0       -3.0   \n",
       "(농업, 임업 및 어업,)                   -4.0                   -5.0       -7.0   \n",
       "(비금속광물,)                         -1.0                   -3.0       -1.0   \n",
       "(서비스업,)                           4.0                    1.0        7.0   \n",
       "(섬유의복,)                           0.0                   -3.0       -3.0   \n",
       "(운수장비,)                           0.0                    1.0        1.0   \n",
       "(운수창고업,)                          2.0                    0.0        1.0   \n",
       "(유통업,)                            5.0                    2.0        7.0   \n",
       "(음식료품,)                           3.0                   -2.0        3.0   \n",
       "(의료·정밀기기,)                        1.0                   -2.0        3.0   \n",
       "(의약품,)                            7.0                    0.0        9.0   \n",
       "(전기가스,)                           1.0                    0.0        1.0   \n",
       "(전기전자,)                           2.0                    1.0        3.0   \n",
       "(종이·목재,)                         -2.0                   -5.0       -7.0   \n",
       "(철강금속,)                           3.0                    2.0        1.0   \n",
       "(통신업,)                            4.0                    0.0        5.0   \n",
       "(화학,)                             2.0                    1.0        3.0   \n",
       "(제조업,)                            3.0                    1.0        3.0   \n",
       "Avg                               1.2                   -0.9        0.9   \n",
       "\n",
       "                ROE 15 이상  ROE 평균 이상  Avg  \n",
       "(건설업,)               -1.0        5.0 -1.6  \n",
       "(광업,)                 1.0        1.0  1.0  \n",
       "(기계,)                -3.0       -5.0 -2.8  \n",
       "(기타제조업,)             -3.0        1.0 -1.8  \n",
       "(농업, 임업 및 어업,)       -3.0       -1.0 -4.0  \n",
       "(비금속광물,)             -5.0       -1.0 -2.2  \n",
       "(서비스업,)              -5.0        1.0  1.6  \n",
       "(섬유의복,)              -3.0        3.0 -1.2  \n",
       "(운수장비,)               1.0       -1.0  0.4  \n",
       "(운수창고업,)             -1.0        3.0  1.0  \n",
       "(유통업,)               -3.0        3.0  2.8  \n",
       "(음식료품,)              -7.0        3.0  0.0  \n",
       "(의료·정밀기기,)           -7.0       -1.0 -1.2  \n",
       "(의약품,)               -9.0        5.0  2.4  \n",
       "(전기가스,)              -1.0        1.0  0.4  \n",
       "(전기전자,)              -1.0        1.0  1.2  \n",
       "(종이·목재,)             -3.0        3.0 -2.8  \n",
       "(철강금속,)               3.0        5.0  2.8  \n",
       "(통신업,)               -5.0        3.0  1.4  \n",
       "(화학,)                -1.0        1.0  1.2  \n",
       "(제조업,)               -1.0        3.0  1.8  \n",
       "Avg                  -2.7        1.6  0.0  "
      ],
      "text/html": "<div>\n<style scoped>\n    .dataframe tbody tr th:only-of-type {\n        vertical-align: middle;\n    }\n\n    .dataframe tbody tr th {\n        vertical-align: top;\n    }\n\n    .dataframe thead th {\n        text-align: right;\n    }\n</style>\n<table border=\"1\" class=\"dataframe\">\n  <thead>\n    <tr style=\"text-align: right;\">\n      <th></th>\n      <th>PER 평균 이하 &amp; ROE 평균 이상</th>\n      <th>PER 평균 이하 &amp; ROE 15 이상</th>\n      <th>PER 평균 이하</th>\n      <th>ROE 15 이상</th>\n      <th>ROE 평균 이상</th>\n      <th>Avg</th>\n    </tr>\n  </thead>\n  <tbody>\n    <tr>\n      <th>(건설업,)</th>\n      <td>-1.0</td>\n      <td>-4.0</td>\n      <td>-7.0</td>\n      <td>-1.0</td>\n      <td>5.0</td>\n      <td>-1.6</td>\n    </tr>\n    <tr>\n      <th>(광업,)</th>\n      <td>1.0</td>\n      <td>1.0</td>\n      <td>1.0</td>\n      <td>1.0</td>\n      <td>1.0</td>\n      <td>1.0</td>\n    </tr>\n    <tr>\n      <th>(기계,)</th>\n      <td>-3.0</td>\n      <td>-2.0</td>\n      <td>-1.0</td>\n      <td>-3.0</td>\n      <td>-5.0</td>\n      <td>-2.8</td>\n    </tr>\n    <tr>\n      <th>(기타제조업,)</th>\n      <td>-1.0</td>\n      <td>-3.0</td>\n      <td>-3.0</td>\n      <td>-3.0</td>\n      <td>1.0</td>\n      <td>-1.8</td>\n    </tr>\n    <tr>\n      <th>(농업, 임업 및 어업,)</th>\n      <td>-4.0</td>\n      <td>-5.0</td>\n      <td>-7.0</td>\n      <td>-3.0</td>\n      <td>-1.0</td>\n      <td>-4.0</td>\n    </tr>\n    <tr>\n      <th>(비금속광물,)</th>\n      <td>-1.0</td>\n      <td>-3.0</td>\n      <td>-1.0</td>\n      <td>-5.0</td>\n      <td>-1.0</td>\n      <td>-2.2</td>\n    </tr>\n    <tr>\n      <th>(서비스업,)</th>\n      <td>4.0</td>\n      <td>1.0</td>\n      <td>7.0</td>\n      <td>-5.0</td>\n      <td>1.0</td>\n      <td>1.6</td>\n    </tr>\n    <tr>\n      <th>(섬유의복,)</th>\n      <td>0.0</td>\n      <td>-3.0</td>\n      <td>-3.0</td>\n      <td>-3.0</td>\n      <td>3.0</td>\n      <td>-1.2</td>\n    </tr>\n    <tr>\n      <th>(운수장비,)</th>\n      <td>0.0</td>\n      <td>1.0</td>\n      <td>1.0</td>\n      <td>1.0</td>\n      <td>-1.0</td>\n      <td>0.4</td>\n    </tr>\n    <tr>\n      <th>(운수창고업,)</th>\n      <td>2.0</td>\n      <td>0.0</td>\n      <td>1.0</td>\n      <td>-1.0</td>\n      <td>3.0</td>\n      <td>1.0</td>\n    </tr>\n    <tr>\n      <th>(유통업,)</th>\n      <td>5.0</td>\n      <td>2.0</td>\n      <td>7.0</td>\n      <td>-3.0</td>\n      <td>3.0</td>\n      <td>2.8</td>\n    </tr>\n    <tr>\n      <th>(음식료품,)</th>\n      <td>3.0</td>\n      <td>-2.0</td>\n      <td>3.0</td>\n      <td>-7.0</td>\n      <td>3.0</td>\n      <td>0.0</td>\n    </tr>\n    <tr>\n      <th>(의료·정밀기기,)</th>\n      <td>1.0</td>\n      <td>-2.0</td>\n      <td>3.0</td>\n      <td>-7.0</td>\n      <td>-1.0</td>\n      <td>-1.2</td>\n    </tr>\n    <tr>\n      <th>(의약품,)</th>\n      <td>7.0</td>\n      <td>0.0</td>\n      <td>9.0</td>\n      <td>-9.0</td>\n      <td>5.0</td>\n      <td>2.4</td>\n    </tr>\n    <tr>\n      <th>(전기가스,)</th>\n      <td>1.0</td>\n      <td>0.0</td>\n      <td>1.0</td>\n      <td>-1.0</td>\n      <td>1.0</td>\n      <td>0.4</td>\n    </tr>\n    <tr>\n      <th>(전기전자,)</th>\n      <td>2.0</td>\n      <td>1.0</td>\n      <td>3.0</td>\n      <td>-1.0</td>\n      <td>1.0</td>\n      <td>1.2</td>\n    </tr>\n    <tr>\n      <th>(종이·목재,)</th>\n      <td>-2.0</td>\n      <td>-5.0</td>\n      <td>-7.0</td>\n      <td>-3.0</td>\n      <td>3.0</td>\n      <td>-2.8</td>\n    </tr>\n    <tr>\n      <th>(철강금속,)</th>\n      <td>3.0</td>\n      <td>2.0</td>\n      <td>1.0</td>\n      <td>3.0</td>\n      <td>5.0</td>\n      <td>2.8</td>\n    </tr>\n    <tr>\n      <th>(통신업,)</th>\n      <td>4.0</td>\n      <td>0.0</td>\n      <td>5.0</td>\n      <td>-5.0</td>\n      <td>3.0</td>\n      <td>1.4</td>\n    </tr>\n    <tr>\n      <th>(화학,)</th>\n      <td>2.0</td>\n      <td>1.0</td>\n      <td>3.0</td>\n      <td>-1.0</td>\n      <td>1.0</td>\n      <td>1.2</td>\n    </tr>\n    <tr>\n      <th>(제조업,)</th>\n      <td>3.0</td>\n      <td>1.0</td>\n      <td>3.0</td>\n      <td>-1.0</td>\n      <td>3.0</td>\n      <td>1.8</td>\n    </tr>\n    <tr>\n      <th>Avg</th>\n      <td>1.2</td>\n      <td>-0.9</td>\n      <td>0.9</td>\n      <td>-2.7</td>\n      <td>1.6</td>\n      <td>0.0</td>\n    </tr>\n  </tbody>\n</table>\n</div>"
     },
     "metadata": {},
     "execution_count": 59
    }
   ],
   "source": [
    "df_ind"
   ]
  },
  {
   "cell_type": "code",
   "execution_count": 62,
   "metadata": {},
   "outputs": [
    {
     "output_type": "execute_result",
     "data": {
      "text/plain": [
       "         PER 평균 이하 & ROE 평균 이상  PER 평균 이하 & ROE 15 이상  PER 평균 이하  ROE 15 이상  \\\n",
       "(2005,)                    3.0                   -4.0        1.0       -9.0   \n",
       "(2006,)                    1.0                   -9.0        3.0      -21.0   \n",
       "(2007,)                    4.0                   12.0        3.0       21.0   \n",
       "(2008,)                    0.0                   -6.0        5.0      -17.0   \n",
       "(2009,)                    3.0                   -7.0        1.0      -15.0   \n",
       "(2010,)                    5.0                    5.0        5.0        5.0   \n",
       "(2011,)                    6.0                   -1.0        1.0       -3.0   \n",
       "(2012,)                   -3.0                   -2.0       -1.0       -3.0   \n",
       "(2013,)                   -1.0                   -1.0        3.0       -5.0   \n",
       "(2014,)                    0.0                   -5.0       -1.0       -9.0   \n",
       "(2015,)                   -1.0                   -3.0       -1.0       -5.0   \n",
       "(2016,)                    3.0                   -6.0       -3.0       -9.0   \n",
       "(2017,)                    6.0                    8.0        3.0       13.0   \n",
       "(2018,)                    0.0                    0.0        0.0        0.0   \n",
       "Avg                        1.9                   -1.4        1.4       -4.1   \n",
       "\n",
       "         ROE 평균 이상  Avg  \n",
       "(2005,)        5.0 -0.8  \n",
       "(2006,)       -1.0 -5.4  \n",
       "(2007,)        5.0  9.0  \n",
       "(2008,)       -5.0 -4.6  \n",
       "(2009,)        5.0 -2.6  \n",
       "(2010,)        5.0  5.0  \n",
       "(2011,)       11.0  2.8  \n",
       "(2012,)       -5.0 -2.8  \n",
       "(2013,)       -5.0 -1.8  \n",
       "(2014,)        1.0 -2.8  \n",
       "(2015,)       -1.0 -2.2  \n",
       "(2016,)        9.0 -1.2  \n",
       "(2017,)        9.0  7.8  \n",
       "(2018,)        0.0  0.0  \n",
       "Avg            2.4  0.0  "
      ],
      "text/html": "<div>\n<style scoped>\n    .dataframe tbody tr th:only-of-type {\n        vertical-align: middle;\n    }\n\n    .dataframe tbody tr th {\n        vertical-align: top;\n    }\n\n    .dataframe thead th {\n        text-align: right;\n    }\n</style>\n<table border=\"1\" class=\"dataframe\">\n  <thead>\n    <tr style=\"text-align: right;\">\n      <th></th>\n      <th>PER 평균 이하 &amp; ROE 평균 이상</th>\n      <th>PER 평균 이하 &amp; ROE 15 이상</th>\n      <th>PER 평균 이하</th>\n      <th>ROE 15 이상</th>\n      <th>ROE 평균 이상</th>\n      <th>Avg</th>\n    </tr>\n  </thead>\n  <tbody>\n    <tr>\n      <th>(2005,)</th>\n      <td>3.0</td>\n      <td>-4.0</td>\n      <td>1.0</td>\n      <td>-9.0</td>\n      <td>5.0</td>\n      <td>-0.8</td>\n    </tr>\n    <tr>\n      <th>(2006,)</th>\n      <td>1.0</td>\n      <td>-9.0</td>\n      <td>3.0</td>\n      <td>-21.0</td>\n      <td>-1.0</td>\n      <td>-5.4</td>\n    </tr>\n    <tr>\n      <th>(2007,)</th>\n      <td>4.0</td>\n      <td>12.0</td>\n      <td>3.0</td>\n      <td>21.0</td>\n      <td>5.0</td>\n      <td>9.0</td>\n    </tr>\n    <tr>\n      <th>(2008,)</th>\n      <td>0.0</td>\n      <td>-6.0</td>\n      <td>5.0</td>\n      <td>-17.0</td>\n      <td>-5.0</td>\n      <td>-4.6</td>\n    </tr>\n    <tr>\n      <th>(2009,)</th>\n      <td>3.0</td>\n      <td>-7.0</td>\n      <td>1.0</td>\n      <td>-15.0</td>\n      <td>5.0</td>\n      <td>-2.6</td>\n    </tr>\n    <tr>\n      <th>(2010,)</th>\n      <td>5.0</td>\n      <td>5.0</td>\n      <td>5.0</td>\n      <td>5.0</td>\n      <td>5.0</td>\n      <td>5.0</td>\n    </tr>\n    <tr>\n      <th>(2011,)</th>\n      <td>6.0</td>\n      <td>-1.0</td>\n      <td>1.0</td>\n      <td>-3.0</td>\n      <td>11.0</td>\n      <td>2.8</td>\n    </tr>\n    <tr>\n      <th>(2012,)</th>\n      <td>-3.0</td>\n      <td>-2.0</td>\n      <td>-1.0</td>\n      <td>-3.0</td>\n      <td>-5.0</td>\n      <td>-2.8</td>\n    </tr>\n    <tr>\n      <th>(2013,)</th>\n      <td>-1.0</td>\n      <td>-1.0</td>\n      <td>3.0</td>\n      <td>-5.0</td>\n      <td>-5.0</td>\n      <td>-1.8</td>\n    </tr>\n    <tr>\n      <th>(2014,)</th>\n      <td>0.0</td>\n      <td>-5.0</td>\n      <td>-1.0</td>\n      <td>-9.0</td>\n      <td>1.0</td>\n      <td>-2.8</td>\n    </tr>\n    <tr>\n      <th>(2015,)</th>\n      <td>-1.0</td>\n      <td>-3.0</td>\n      <td>-1.0</td>\n      <td>-5.0</td>\n      <td>-1.0</td>\n      <td>-2.2</td>\n    </tr>\n    <tr>\n      <th>(2016,)</th>\n      <td>3.0</td>\n      <td>-6.0</td>\n      <td>-3.0</td>\n      <td>-9.0</td>\n      <td>9.0</td>\n      <td>-1.2</td>\n    </tr>\n    <tr>\n      <th>(2017,)</th>\n      <td>6.0</td>\n      <td>8.0</td>\n      <td>3.0</td>\n      <td>13.0</td>\n      <td>9.0</td>\n      <td>7.8</td>\n    </tr>\n    <tr>\n      <th>(2018,)</th>\n      <td>0.0</td>\n      <td>0.0</td>\n      <td>0.0</td>\n      <td>0.0</td>\n      <td>0.0</td>\n      <td>0.0</td>\n    </tr>\n    <tr>\n      <th>Avg</th>\n      <td>1.9</td>\n      <td>-1.4</td>\n      <td>1.4</td>\n      <td>-4.1</td>\n      <td>2.4</td>\n      <td>0.0</td>\n    </tr>\n  </tbody>\n</table>\n</div>"
     },
     "metadata": {},
     "execution_count": 62
    }
   ],
   "source": [
    "df_year"
   ]
  },
  {
   "cell_type": "code",
   "execution_count": null,
   "metadata": {},
   "outputs": [],
   "source": []
  }
 ],
 "metadata": {
  "kernelspec": {
   "name": "python3",
   "display_name": "Python 3.7.9 64-bit ('dss_01': conda)",
   "metadata": {
    "interpreter": {
     "hash": "704bdba30ac456dd31ede244a6465ef136566e90789e1ce4f25d2c752586f63c"
    }
   }
  },
  "language_info": {
   "codemirror_mode": {
    "name": "ipython",
    "version": 3
   },
   "file_extension": ".py",
   "mimetype": "text/x-python",
   "name": "python",
   "nbconvert_exporter": "python",
   "pygments_lexer": "ipython3",
   "version": "3.7.9-final"
  }
 },
 "nbformat": 4,
 "nbformat_minor": 5
}